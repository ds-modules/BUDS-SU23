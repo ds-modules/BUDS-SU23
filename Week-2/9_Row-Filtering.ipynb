{
 "cells": [
  {
   "cell_type": "markdown",
   "metadata": {},
   "source": [
    "# BUDS Report 09: Row Filtering\n",
    "\n",
    "### Table of Contents\n",
    "\n",
    "1.  <a href='#section 1'>Filtering with `where`</a>\n",
    "    \n",
    "2. <a href='#section 2'>Filtering with `take`</a>\n",
    "\n",
    "3. <a href='#section 3'>Visualizations</a>\n",
    "\n",
    "4. <a href='#section 4'>More Questions</a>\n",
    "\n",
    "5. <a href='#section 5'>One Last Look at the CES Data</a>"
   ]
  },
  {
   "cell_type": "code",
   "execution_count": 1,
   "metadata": {},
   "outputs": [],
   "source": [
    "# run this cell\n",
    "\n",
    "from datascience import *\n",
    "import numpy as np\n",
    "import math\n",
    "import matplotlib.pyplot as plt\n",
    "plt.style.use(\"fivethirtyeight\")\n",
    "%matplotlib inline"
   ]
  },
  {
   "cell_type": "markdown",
   "metadata": {},
   "source": [
    "### The Data <a id='data'></a>\n",
    "\n",
    "Let's continue to work with the US census data, again just looking at years 2010 and 2014.\n",
    "\n",
    "As a reminder, the \"SEX\" column contains numeric codes: `0` stands for the total, `1` for male, and `2` for female. The \"AGE\" column contains ages in completed years, but the special value `999` is a sum of the total population. The combination of SEX = `0` and AGE = `999` tells us that the corresponding row has the data for all sexes and all ages."
   ]
  },
  {
   "cell_type": "code",
   "execution_count": 2,
   "metadata": {},
   "outputs": [
    {
     "data": {
      "text/html": [
       "<table border=\"1\" class=\"dataframe\">\n",
       "    <thead>\n",
       "        <tr>\n",
       "            <th>SEX</th> <th>AGE</th> <th>2010</th> <th>2014</th>\n",
       "        </tr>\n",
       "    </thead>\n",
       "    <tbody>\n",
       "        <tr>\n",
       "            <td>0   </td> <td>0   </td> <td>3951330</td> <td>3949775</td>\n",
       "        </tr>\n",
       "        <tr>\n",
       "            <td>1   </td> <td>0   </td> <td>2018420</td> <td>2020326</td>\n",
       "        </tr>\n",
       "        <tr>\n",
       "            <td>2   </td> <td>0   </td> <td>1932910</td> <td>1929449</td>\n",
       "        </tr>\n",
       "        <tr>\n",
       "            <td>0   </td> <td>1   </td> <td>3957888</td> <td>3949776</td>\n",
       "        </tr>\n",
       "        <tr>\n",
       "            <td>1   </td> <td>1   </td> <td>2020332</td> <td>2018401</td>\n",
       "        </tr>\n",
       "        <tr>\n",
       "            <td>2   </td> <td>1   </td> <td>1937556</td> <td>1931375</td>\n",
       "        </tr>\n",
       "        <tr>\n",
       "            <td>0   </td> <td>2   </td> <td>4090862</td> <td>3959664</td>\n",
       "        </tr>\n",
       "        <tr>\n",
       "            <td>1   </td> <td>2   </td> <td>2088685</td> <td>2023673</td>\n",
       "        </tr>\n",
       "        <tr>\n",
       "            <td>2   </td> <td>2   </td> <td>2002177</td> <td>1935991</td>\n",
       "        </tr>\n",
       "        <tr>\n",
       "            <td>0   </td> <td>3   </td> <td>4111920</td> <td>4007079</td>\n",
       "        </tr>\n",
       "    </tbody>\n",
       "</table>\n",
       "<p>... (296 rows omitted)</p>"
      ],
      "text/plain": [
       "SEX  | AGE  | 2010    | 2014\n",
       "0    | 0    | 3951330 | 3949775\n",
       "1    | 0    | 2018420 | 2020326\n",
       "2    | 0    | 1932910 | 1929449\n",
       "0    | 1    | 3957888 | 3949776\n",
       "1    | 1    | 2020332 | 2018401\n",
       "2    | 1    | 1937556 | 1931375\n",
       "0    | 2    | 4090862 | 3959664\n",
       "1    | 2    | 2088685 | 2023673\n",
       "2    | 2    | 2002177 | 1935991\n",
       "0    | 3    | 4111920 | 4007079\n",
       "... (296 rows omitted)"
      ]
     },
     "execution_count": 2,
     "metadata": {},
     "output_type": "execute_result"
    }
   ],
   "source": [
    "# a local copy can be accessed here in case census.gov moves the file:\n",
    "# data = path_data + 'nc-est2015-agesex-res.csv'\n",
    "data = 'http://www2.census.gov/programs-surveys/popest/datasets/2010-2015/national/asrh/nc-est2015-agesex-res.csv'\n",
    "\n",
    "# these repeat some steps that were done in Report 08\n",
    "full_census = Table.read_table(data)\n",
    "partial_census = full_census.select('SEX', 'AGE', 'POPESTIMATE2010', 'POPESTIMATE2014')\n",
    "us_pop = partial_census.relabeled('POPESTIMATE2010', '2010').relabeled('POPESTIMATE2014', '2014')\n",
    "us_pop.sort('AGE')"
   ]
  },
  {
   "cell_type": "markdown",
   "metadata": {},
   "source": [
    "## 1. Filtering with `where`  <a id='section 1'></a>\n",
    "\n",
    "Often times, we only want to analyze a certain subset of our data at a time.\n",
    "\n",
    "For example, let's filter our data to only look at the population counts of males.\n",
    "\n",
    "<div class=\"alert alert-warning\">\n",
    "    <b>PRACTICE:</b> First, write down what the table's numeric code for the male population is. Then, assign <code>male_pop</code> to a table with the male subset of our data.\n",
    "    </div>"
   ]
  },
  {
   "cell_type": "markdown",
   "metadata": {},
   "source": [
    "_Written Answer:_"
   ]
  },
  {
   "cell_type": "code",
   "execution_count": 3,
   "metadata": {},
   "outputs": [
    {
     "data": {
      "text/plain": [
       "Ellipsis"
      ]
     },
     "execution_count": 3,
     "metadata": {},
     "output_type": "execute_result"
    }
   ],
   "source": [
    "..."
   ]
  },
  {
   "cell_type": "markdown",
   "metadata": {},
   "source": [
    "As we can see in the table above, we've chosen only a subset of the rows of the original table -- specifically the rows corresponding to male census participants.\n",
    "\n",
    "In the following Markdown cell, translate the code you wrote into a regular English statement that both describes what you're doing and uses the variable names and function names in it."
   ]
  },
  {
   "cell_type": "markdown",
   "metadata": {},
   "source": [
    "_Written Answer:_"
   ]
  },
  {
   "cell_type": "markdown",
   "metadata": {},
   "source": [
    "<div class=\"alert alert-warning\">\n",
    "    <b>PRACTICE:</b> Now select only the rows corresponding to the female population.\n",
    "   </div>"
   ]
  },
  {
   "cell_type": "code",
   "execution_count": 4,
   "metadata": {},
   "outputs": [
    {
     "data": {
      "text/plain": [
       "Ellipsis"
      ]
     },
     "execution_count": 4,
     "metadata": {},
     "output_type": "execute_result"
    }
   ],
   "source": [
    "female_pop = ...\n",
    "female_pop"
   ]
  },
  {
   "cell_type": "markdown",
   "metadata": {},
   "source": [
    "A special feature of `are.equal_to(...)` is that it is the default predicate for `tbl.where(...)`. This means if we write a `where` expression without writing `are.equal_to(...)`, then it would work as if it was there.\n",
    "\n",
    "Here is an example. We can assign the name `ten_yr_males` to a table whose rows are the rows in the `male_pop` table `where` the AGEs `are` `equal` `to` `10`."
   ]
  },
  {
   "cell_type": "code",
   "execution_count": 5,
   "metadata": {},
   "outputs": [
    {
     "ename": "NameError",
     "evalue": "name 'male_pop' is not defined",
     "output_type": "error",
     "traceback": [
      "\u001b[0;31m---------------------------------------------------------------------------\u001b[0m",
      "\u001b[0;31mNameError\u001b[0m                                 Traceback (most recent call last)",
      "Input \u001b[0;32mIn [5]\u001b[0m, in \u001b[0;36m<cell line: 1>\u001b[0;34m()\u001b[0m\n\u001b[0;32m----> 1\u001b[0m ten_yr_males \u001b[38;5;241m=\u001b[39m \u001b[43mmale_pop\u001b[49m\u001b[38;5;241m.\u001b[39mwhere(\u001b[38;5;124m\"\u001b[39m\u001b[38;5;124mAGE\u001b[39m\u001b[38;5;124m\"\u001b[39m, \u001b[38;5;241m10\u001b[39m)\n\u001b[1;32m      2\u001b[0m ten_yr_males\n",
      "\u001b[0;31mNameError\u001b[0m: name 'male_pop' is not defined"
     ]
    }
   ],
   "source": [
    "ten_yr_males = male_pop.where(\"AGE\", 10)\n",
    "ten_yr_males"
   ]
  },
  {
   "cell_type": "code",
   "execution_count": null,
   "metadata": {},
   "outputs": [],
   "source": [
    "# this works the same when we include are.equal_to(...)\n",
    "male_pop.where(\"AGE\", are.equal_to(10))"
   ]
  },
  {
   "cell_type": "markdown",
   "metadata": {},
   "source": [
    "### `where` <a id='subsection 1a'></a>\n",
    "\n",
    "Now let's dive into the details a bit more.  `where` takes 2 arguments:\n",
    "\n",
    "1. The name of a column.  `where` finds rows where that column's values meet some condition.\n",
    "2. A predicate that describes the condition that the column needs to meet.\n",
    "\n",
    "The predicate in the examples above called the predicate `are.equal_to` with the values we wanted, 1 (or 2).  We'll see other predicates next.\n",
    "\n",
    "`where` returns a table that's a copy of the original table, but **with only the rows that meet the given predicate**."
   ]
  },
  {
   "cell_type": "markdown",
   "metadata": {},
   "source": [
    "So far we've only been using `where` with the predicate that requires finding the values in a column to be *exactly* equal to a certain value. However, there are many other predicates. Here are a few:\n",
    "\n",
    "|Predicate|Example|Result|\n",
    "|-|-|-|\n",
    "|`are.equal_to`|`are.equal_to(50)`|Find rows with values equal to 50|\n",
    "|`are.equal_to`|`are.equal_to(\"hello\")`|Find rows with values equal to \"hello\"|\n",
    "|`are.not_equal_to`|`are.not_equal_to(50)`|Find rows with values not equal to 50|\n",
    "|`are.above`|`are.above(50)`|Find rows with values above (and not equal to) 50|\n",
    "|`are.above_or_equal_to`|`are.above_or_equal_to(50)`|Find rows with values above 50 or equal to 50|\n",
    "|`are.below`|`are.below(50)`|Find rows with values below 50|\n",
    "|`are.between`|`are.between(2, 10)`|Find rows with values above or equal to 2 and below 10|\n",
    "|`are.containing`| `are.containing(\"i\")`| Find rows with string values that contain the letter i.\n",
    "\n",
    "You can find a few more in the [Python reference sheet](http://data8.org/su22/python-reference.html)."
   ]
  },
  {
   "cell_type": "markdown",
   "metadata": {},
   "source": [
    "Let's go back to the census data.\n",
    "\n",
    "<div class=\"alert alert-warning\">\n",
    "    <b>PRACTICE:</b> Display the census data such that the largest ages appear first.\n",
    "    </div>"
   ]
  },
  {
   "cell_type": "code",
   "execution_count": null,
   "metadata": {},
   "outputs": [],
   "source": [
    "..."
   ]
  },
  {
   "cell_type": "markdown",
   "metadata": {},
   "source": [
    "<div class=\"alert alert-warning\">\n",
    "    <b>PRACTICE:</b> Remember the numerical code 999 stands for total (across all ages), but let's say we're only interested in specific ages (NOT their total). We could do another <code>where(...)</code> to accomplish this. Try doing so in the next cell and assigning this table to the variable <code>pop_by_age</code>. It should look similar to the previous table but without the rows with ages 999.\n",
    "    </div>"
   ]
  },
  {
   "cell_type": "code",
   "execution_count": null,
   "metadata": {},
   "outputs": [],
   "source": [
    "..."
   ]
  },
  {
   "cell_type": "markdown",
   "metadata": {},
   "source": [
    "<div class=\"alert alert-warning\">\n",
    "    <b>PRACTICE:</b> Write some code to only select population counts corresponding to males and females (but not their totals). Remember, in the \"SEX\" column, 0 represents a total. Assign this to the name <code>both_sexes</code>.\n",
    "   </div>"
   ]
  },
  {
   "cell_type": "code",
   "execution_count": null,
   "metadata": {},
   "outputs": [],
   "source": [
    "..."
   ]
  },
  {
   "cell_type": "markdown",
   "metadata": {},
   "source": [
    "<div class=\"alert alert-warning\">\n",
    "    <b>PRACTICE:</b> One of the nice things about code is that there are several ways of doing something. Write another <code>where</code> expression which will do the same thing as the above cell. Use a different predicate.\n",
    "   </div>"
   ]
  },
  {
   "cell_type": "code",
   "execution_count": null,
   "metadata": {},
   "outputs": [],
   "source": [
    "..."
   ]
  },
  {
   "cell_type": "markdown",
   "metadata": {},
   "source": [
    "<div class=\"alert alert-warning\">\n",
    "    <b>PRACTICE:</b> Once again, try creating the same table by using a different predicate.\n",
    "   </div>"
   ]
  },
  {
   "cell_type": "code",
   "execution_count": null,
   "metadata": {},
   "outputs": [],
   "source": [
    "..."
   ]
  },
  {
   "cell_type": "markdown",
   "metadata": {},
   "source": [
    "These are all different ways to write the same expression. Some predicates are used more often than others, but there is no added benefit to using a specific predicate in the situation above. They all work the same. The only benefit would be less typing for shorter predicates. \n",
    "\n",
    "<div class=\"alert alert-warning\">\n",
    "    <b>PRACTICE:</b> Why does this code not produce the same table as the others above?\n",
    "    </div>"
   ]
  },
  {
   "cell_type": "code",
   "execution_count": null,
   "metadata": {},
   "outputs": [],
   "source": [
    "pop_by_age.where(\"SEX\", are.equal_to(1)).where(\"SEX\", are.equal_to(2))"
   ]
  },
  {
   "cell_type": "markdown",
   "metadata": {},
   "source": [
    "_Written Answer:_"
   ]
  },
  {
   "cell_type": "markdown",
   "metadata": {},
   "source": [
    "## 2. Filtering with `take` <a id='section 2'></a>"
   ]
  },
  {
   "cell_type": "markdown",
   "metadata": {},
   "source": [
    "<div class=\"alert alert-warning\">\n",
    "    <b>PRACTICE:</b> Let's combine what we did above to remove totals of ages and of sex and only look at the year 2014. This table should have information on both males and females of all ages in the year 2014. Try it in the cell below.\n",
    "    </div"
   ]
  },
  {
   "cell_type": "code",
   "execution_count": null,
   "metadata": {},
   "outputs": [],
   "source": [
    "us_pop_2014 = ...\n",
    "us_pop_2014_sorted = ...\n",
    "us_pop_2014_sorted "
   ]
  },
  {
   "cell_type": "markdown",
   "metadata": {},
   "source": [
    "Remember, `tbl.take()` allows us to specify which row numbers of the above table we want to look at. Each row has an index like an array, which is the numbers we reference inside of `take(...)`"
   ]
  },
  {
   "cell_type": "code",
   "execution_count": null,
   "metadata": {},
   "outputs": [],
   "source": [
    "# run this cell\n",
    "us_pop_2014_sorted.take(0) "
   ]
  },
  {
   "cell_type": "markdown",
   "metadata": {},
   "source": [
    "This lets us look at just the first row of the table. (Remember, row numbers start with 0!)\n",
    "\n",
    "<div class=\"alert alert-warning\">\n",
    "    <b>PRACTICE:</b> Fill in the blanks to only select population counts corresponding to males and females between ages 98 and 100.\n",
    "    </div>\n",
    "    \n",
    "*Hint:* how many rows of the above table do we want?"
   ]
  },
  {
   "cell_type": "code",
   "execution_count": null,
   "metadata": {},
   "outputs": [],
   "source": [
    "seniors_2014 = us_pop_2014_sorted.take(np.arange(..., ...))\n",
    "seniors_2014"
   ]
  },
  {
   "cell_type": "markdown",
   "metadata": {},
   "source": [
    "Another way to write this code is to use where. See the below code cells and notice that we don't need our table to be sorted."
   ]
  },
  {
   "cell_type": "code",
   "execution_count": null,
   "metadata": {},
   "outputs": [],
   "source": [
    "seniors_2014 = us_pop_2014_sorted.where(\"AGE\", are.between(98, 101)) \n",
    "seniors_2014"
   ]
  },
  {
   "cell_type": "code",
   "execution_count": null,
   "metadata": {},
   "outputs": [],
   "source": [
    "seniors_2014 = us_pop_2014.where(\"AGE\", are.between(98, 101))\n",
    "seniors_2014 = seniors_2014.sort(\"AGE\", descending=True)\n",
    "seniors_2014"
   ]
  },
  {
   "cell_type": "markdown",
   "metadata": {},
   "source": [
    "Depending on the situation, one of these methods may be better than others. When would you prefer to use `where` and when would you prefer to use `take`?"
   ]
  },
  {
   "cell_type": "markdown",
   "metadata": {},
   "source": [
    "_Written Answer:_"
   ]
  },
  {
   "cell_type": "markdown",
   "metadata": {},
   "source": [
    "## 3. Visualizations  <a id='section 3'></a>\n",
    "\n",
    "To understand how our data really looks, it would be easier to create a visualization using this table. Let's compare \"AGE\" to the population in 2014.\n",
    "\n",
    "Are these columns categorical variables? Numerical variables? How can you tell?"
   ]
  },
  {
   "cell_type": "markdown",
   "metadata": {},
   "source": [
    "_Written Answer:_"
   ]
  },
  {
   "cell_type": "markdown",
   "metadata": {},
   "source": [
    "Based on your answer, what kind of visualization would be best for this data?"
   ]
  },
  {
   "cell_type": "markdown",
   "metadata": {},
   "source": [
    "_Written Answer:_"
   ]
  },
  {
   "cell_type": "markdown",
   "metadata": {},
   "source": [
    "<div class=\"alert alert-warning\">\n",
    "    <b>PRACTICE:</b> Create this visualization in the cell below.\n",
    "    </div>"
   ]
  },
  {
   "cell_type": "code",
   "execution_count": null,
   "metadata": {},
   "outputs": [],
   "source": [
    "..."
   ]
  },
  {
   "cell_type": "markdown",
   "metadata": {},
   "source": [
    "What do you notice about this visualization?"
   ]
  },
  {
   "cell_type": "markdown",
   "metadata": {},
   "source": [
    "_Written Answer:_"
   ]
  },
  {
   "cell_type": "markdown",
   "metadata": {},
   "source": [
    "How does your visualization compare to the table called `seniors_2014`?"
   ]
  },
  {
   "cell_type": "markdown",
   "metadata": {},
   "source": [
    "_Written Answer:_"
   ]
  },
  {
   "cell_type": "markdown",
   "metadata": {},
   "source": [
    "## 4. More Questions on `where` and Strings:  <a id='section 4'></a>\n",
    "\n",
    "If our original table had sex represented as text or a string, then we would have to use a different where expression to choose between males and females."
   ]
  },
  {
   "cell_type": "code",
   "execution_count": null,
   "metadata": {
    "scrolled": true
   },
   "outputs": [],
   "source": [
    "# this code adds the string version of sex in a new column\n",
    "\n",
    "fem_str = female_pop.with_column(\"SEX (str)\" ,\"female\")\n",
    "male_str = male_pop.with_column(\"SEX (str)\" , \"male\")\n",
    "\n",
    "str_sex = fem_str.with_rows(male_str.rows).sort('AGE', descending=True)\n",
    "str_sex"
   ]
  },
  {
   "cell_type": "markdown",
   "metadata": {},
   "source": [
    "Let's try to only get rows with females. There are multiple ways to do this.\n",
    "\n",
    "<div class=\"alert alert-warning\">\n",
    "    <b>PRACTICE:</b> Try doing so with <code>are.equal_to(...)</code>.\n",
    "    </div>"
   ]
  },
  {
   "cell_type": "code",
   "execution_count": null,
   "metadata": {},
   "outputs": [],
   "source": [
    "..."
   ]
  },
  {
   "cell_type": "markdown",
   "metadata": {},
   "source": [
    "<div class=\"alert alert-warning\">\n",
    "    <b>PRACTICE:</b> Now do so without writing a predicate at all.\n",
    "    </div>"
   ]
  },
  {
   "cell_type": "code",
   "execution_count": null,
   "metadata": {},
   "outputs": [],
   "source": [
    "..."
   ]
  },
  {
   "cell_type": "markdown",
   "metadata": {},
   "source": [
    "<div class=\"alert alert-warning\">\n",
    "    <b>PRACTICE:</b> In this next cell, use the predicate <code>are.containing(...)</code>.\n",
    "    </div>"
   ]
  },
  {
   "cell_type": "code",
   "execution_count": null,
   "metadata": {},
   "outputs": [],
   "source": [
    "..."
   ]
  },
  {
   "cell_type": "markdown",
   "metadata": {},
   "source": [
    "<div class=\"alert alert-warning\">\n",
    "    <b>PRACTICE:</b> See if you can come up with another way to create the table above using <code>are.below(...)</code>.\n",
    "    </div>"
   ]
  },
  {
   "cell_type": "code",
   "execution_count": null,
   "metadata": {},
   "outputs": [],
   "source": [
    "..."
   ]
  },
  {
   "cell_type": "markdown",
   "metadata": {},
   "source": [
    "<div class=\"alert alert-warning\">\n",
    "    <b>PRACTICE:</b> Finally, create this table with <code>are.not_equal_to(...)</code>.\n",
    "    </div>"
   ]
  },
  {
   "cell_type": "code",
   "execution_count": null,
   "metadata": {},
   "outputs": [],
   "source": [
    "..."
   ]
  },
  {
   "cell_type": "markdown",
   "metadata": {},
   "source": [
    "## 5. One Last Look at the CES Data <a id='section 5'></a>\n",
    "\n",
    "In order to show an application of `where`, let's take a look at the familiar CalEnviroScreen data set.\n",
    "\n",
    "Run the following cell to get our table."
   ]
  },
  {
   "cell_type": "code",
   "execution_count": null,
   "metadata": {},
   "outputs": [],
   "source": [
    "ces_data = Table.read_table(\"ces_data_v2.csv\")\n",
    "\n",
    "# this does a bit of data cleaning\n",
    "# don't worry about understanding these next few lines of code\n",
    "for i in np.arange(ces_data.num_columns):\n",
    "    if i != 3 and i != 11:\n",
    "        ces_data = ces_data.where(i, are.above_or_equal_to(0))\n",
    "ces_data"
   ]
  },
  {
   "cell_type": "markdown",
   "metadata": {},
   "source": [
    "Look at a specific county or group of counties. This is similar to what was done for you in previous notebooks, but try doing it on your own here."
   ]
  },
  {
   "cell_type": "code",
   "execution_count": null,
   "metadata": {},
   "outputs": [],
   "source": [
    "..."
   ]
  },
  {
   "cell_type": "markdown",
   "metadata": {},
   "source": [
    "Now that you have access to a table of one county's data, check that its data are **consistent**.\n",
    "\n",
    "<div class=\"alert alert-warning\">\n",
    "    <b>PRACTICE:</b> The total population of each tract should be equal to the sum of the total populations of each race. Complete the multi-step process to ensure that your county's data is clean. Find the total population of the county, then the total Hispanic population of the county, etc. Then, assign <code>good_percentages</code> to a boolean statement that determines whether our data is clean or not. To do so, you can compare <code>pop</code> to <code>all_races</code> using <code>math.isclose(...)</code>. Read the documentation by running the next cell and clicking <b><code>Shift + Tab</code></b>.\n",
    "\n",
    "Allow for the count to be off by 3 people (ie. if <code>pop</code> is 45 people and <code>all_races</code> is 48 people, <code>good_percentages</code> should evaluate to True.\n",
    "    </div>"
   ]
  },
  {
   "cell_type": "code",
   "execution_count": null,
   "metadata": {},
   "outputs": [],
   "source": [
    "math.isclose(1, 1)"
   ]
  },
  {
   "cell_type": "code",
   "execution_count": null,
   "metadata": {},
   "outputs": [],
   "source": [
    "pop = ...\n",
    "\n",
    "hisp = ...\n",
    "white = ...\n",
    "black = ...\n",
    "native = ...\n",
    "asian = ...\n",
    "other = ...\n",
    "all_races = ...\n",
    "\n",
    "good_percentages = ...\n",
    "good_percentages"
   ]
  },
  {
   "cell_type": "markdown",
   "metadata": {},
   "source": [
    "Let's go back to the original census data.\n",
    "\n",
    "<div class=\"alert alert-warning\">\n",
    "    <b>PRACTICE:</b> Create an array that contains which counties have a population tract of 5000 people or larger and a CalEnviroScreen score that's larger than 76. The items in the array should be listed in alphabetical order with unique county names appearing only once. \n",
    "    \n",
    "If you're getting stuck, try breaking this problem down into multiple steps.\n",
    "    </div>"
   ]
  },
  {
   "cell_type": "code",
   "execution_count": null,
   "metadata": {},
   "outputs": [],
   "source": [
    "..."
   ]
  },
  {
   "cell_type": "markdown",
   "metadata": {},
   "source": [
    "Here's a more challenging question. Feel free to discuss it with your fellow interns and your group facilitators.\n",
    "\n",
    "<div class=\"alert alert-warning\">\n",
    "    <b>PRACTICE:</b> 76 was an arbitrary choice for the CalEnviroScreen score. Let's instead find what CalEnviroScreen score is greater than about 95% of the other CES scores (and therefore less than about 5% of the CES scores).\n",
    "    \n",
    "If we know that <code>ces_data</code> has 7711 census tracts, how many census tracts make up about 95% of the data? Round to the nearest integer and use that number to find the answer to this question.\n",
    "    \n",
    "If we sort ten items in ascending order and take the 3rd item (in index 2), how many items are greater than it? If we sort those same ten items in *descending* order and take the 3rd item (in index 2), how many items are greater than it?\n",
    "    </div>"
   ]
  },
  {
   "cell_type": "markdown",
   "metadata": {},
   "source": [
    "_Written Answer:_"
   ]
  },
  {
   "cell_type": "code",
   "execution_count": null,
   "metadata": {},
   "outputs": [],
   "source": [
    "abt_95_pct = ...\n",
    "index = ...\n",
    "\n",
    "tract_at_95_pct = ...\n",
    "ces_at_95_pct = ...\n",
    "ces_at_95_pct"
   ]
  },
  {
   "cell_type": "markdown",
   "metadata": {},
   "source": [
    "### Downloading as PDF\n",
    "\n",
    "Download this notebook as a pdf by clicking <b><code>File > Download as > PDF via LaTeX</code></b>. Turn in the PDF into bCourses under the corresponding assignment."
   ]
  },
  {
   "cell_type": "markdown",
   "metadata": {},
   "source": [
    "## Bibliography\n",
    "\n",
    "- John Denero - Data 8X, Census: Males and Females. https://www.youtube.com/watch?v=SAJavz58uHk&feature=youtu.be\n",
    "- Data 8 Spring 2020 - Lab 02. http://data8.org/sp20/\n",
    "---\n",
    "Notebook developed by: Alleanna, Ashley, Pratibha\n",
    "\n",
    "Data Science Modules: http://data.berkeley.edu/education/modules\n"
   ]
  }
 ],
 "metadata": {
  "anaconda-cloud": {},
  "kernelspec": {
   "display_name": "Python 3 (ipykernel)",
   "language": "python",
   "name": "python3"
  },
  "language_info": {
   "codemirror_mode": {
    "name": "ipython",
    "version": 3
   },
   "file_extension": ".py",
   "mimetype": "text/x-python",
   "name": "python",
   "nbconvert_exporter": "python",
   "pygments_lexer": "ipython3",
   "version": "3.9.13"
  }
 },
 "nbformat": 4,
 "nbformat_minor": 1
}
