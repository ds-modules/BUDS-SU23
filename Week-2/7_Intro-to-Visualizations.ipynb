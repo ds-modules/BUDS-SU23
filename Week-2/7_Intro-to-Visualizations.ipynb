{
 "cells": [
  {
   "cell_type": "markdown",
   "id": "4c6d1c5e",
   "metadata": {},
   "source": [
    "# BUDS Report 07: Intro to Visualizations\n",
    "\n",
    "### Table of Contents\n",
    "\n",
    "1. <a href='#section 1'>Numerical vs. Categorical Data</a>\n",
    "2. <a href='#section 2'>Scatter Plots</a>\n",
    "3. <a href='#section 3'>Histograms</a>\n",
    "4. <a href='#section 4'>Bar Charts</a>"
   ]
  },
  {
   "cell_type": "code",
   "execution_count": 1,
   "id": "3b98d507",
   "metadata": {},
   "outputs": [],
   "source": [
    "# run this cell\n",
    "\n",
    "from datascience import *\n",
    "import numpy as np\n",
    "import math\n",
    "import matplotlib.pyplot as plt\n",
    "plt.style.use('fivethirtyeight')\n",
    "%matplotlib inline"
   ]
  },
  {
   "cell_type": "markdown",
   "id": "9aeee604",
   "metadata": {},
   "source": [
    "## 1. Numerical vs. Categorical Data <a id='section 1'></a>\n",
    "\n",
    "When working with data, it's important to consider whether it is numerical or categorical. This will help you create visualizations and make better analyses regarding the data.\n",
    "\n",
    "We work with two types -- numerical data and categorical data. It may sound pretty straightforward, but here are the definitions.\n",
    "\n",
    "- **Numerical Data:** values that are from an ordered number scale where the _differences_ are meaningful\n",
    "\n",
    "- **Categorical Data:** values are from a specific inventory that may or may not have an ordering\n",
    "\n",
    "Run the following cell to load the `ces_data` table from the past few days. It'll be loaded into your notebook in the same way as previous notebooks but with a little more data cleaning than before. Again, the data cleaning consists of getting rid of `nan` values (datapoint attributes that couldn't be collected). You don't have to understand how the code works, but do take note of the change in the number of rows. Answer the following questions about numerical and categorical data."
   ]
  },
  {
   "cell_type": "code",
   "execution_count": 2,
   "id": "c0b648f1",
   "metadata": {},
   "outputs": [
    {
     "name": "stdout",
     "output_type": "stream",
     "text": [
      "The original CalEnviroScreen data had 8024 rows.\n",
      "The cleaned CalEnviroScreen data now has 7711 rows.\n"
     ]
    },
    {
     "data": {
      "text/html": [
       "<table border=\"1\" class=\"dataframe\">\n",
       "    <thead>\n",
       "        <tr>\n",
       "            <th>Census.Tract</th> <th>CES.3.0.Score</th> <th>Total.Population</th> <th>California.County</th> <th>Hispanic....</th> <th>White....</th> <th>African.American....</th> <th>Native.American....</th> <th>Asian.American....</th> <th>Other....</th> <th>ZIP</th> <th>Longitude</th> <th>Latitude</th> <th>Ozone</th> <th>PM2.5</th> <th>Diesel.PM</th> <th>Drinking.Water</th> <th>Pesticides</th> <th>Tox..Release</th> <th>Traffic</th> <th>Cleanup.Sites</th> <th>Groundwater.Threats</th> <th>Haz..Waste</th> <th>Imp..Water.Bodies</th> <th>Solid.Waste</th> <th>Pollution.Burden</th> <th>Asthma</th> <th>Low.Birth.Weight</th> <th>Poverty</th> <th>Unemployment</th>\n",
       "        </tr>\n",
       "    </thead>\n",
       "    <tbody>\n",
       "        <tr>\n",
       "            <td>6019001100  </td> <td>94.09        </td> <td>3174            </td> <td>Fresno           </td> <td>65.3        </td> <td>4.2      </td> <td>24.6                </td> <td>0.5                </td> <td>3.5               </td> <td>1.8      </td> <td>93706</td> <td>-119.782 </td> <td>36.7097 </td> <td>0.065</td> <td>15.4 </td> <td>48.524   </td> <td>681.2         </td> <td>2.75      </td> <td>18552       </td> <td>909.14 </td> <td>80.5         </td> <td>45.75              </td> <td>0.795     </td> <td>0                </td> <td>21.75      </td> <td>79.96           </td> <td>131.64</td> <td>7.44            </td> <td>76.3   </td> <td>17.6        </td>\n",
       "        </tr>\n",
       "        <tr>\n",
       "            <td>6071001600  </td> <td>90.68        </td> <td>6133            </td> <td>San Bernardino   </td> <td>91.1        </td> <td>5.8      </td> <td>0.7                 </td> <td>0.3                </td> <td>1.4               </td> <td>0.7      </td> <td>91761</td> <td>-117.618 </td> <td>34.0578 </td> <td>0.062</td> <td>13.31</td> <td>38.556   </td> <td>904.66        </td> <td>1.37      </td> <td>7494.24     </td> <td>782.26 </td> <td>66.2         </td> <td>36                 </td> <td>1.25      </td> <td>5                </td> <td>12         </td> <td>81.19           </td> <td>60.66 </td> <td>7.04            </td> <td>72.5   </td> <td>12.3        </td>\n",
       "        </tr>\n",
       "        <tr>\n",
       "            <td>6019000200  </td> <td>85.97        </td> <td>3167            </td> <td>Fresno           </td> <td>63.6        </td> <td>5.3      </td> <td>18.9                </td> <td>0.6                </td> <td>9.8               </td> <td>1.8      </td> <td>93706</td> <td>-119.806 </td> <td>36.7355 </td> <td>0.062</td> <td>15.4 </td> <td>47.445   </td> <td>681.2         </td> <td>3.03      </td> <td>12454.9     </td> <td>576.52 </td> <td>22           </td> <td>30.25              </td> <td>0.2       </td> <td>0                </td> <td>2.5        </td> <td>71.16           </td> <td>142.12</td> <td>10.16           </td> <td>86.8   </td> <td>16.1        </td>\n",
       "        </tr>\n",
       "        <tr>\n",
       "            <td>6077000801  </td> <td>82.49        </td> <td>6692            </td> <td>San Joaquin      </td> <td>57.4        </td> <td>6        </td> <td>12.5                </td> <td>0.3                </td> <td>20.9              </td> <td>2.8      </td> <td>95203</td> <td>-121.315 </td> <td>37.9405 </td> <td>0.046</td> <td>12.54</td> <td>24.117   </td> <td>278.76        </td> <td>12.93     </td> <td>2387.78     </td> <td>1305.01</td> <td>50.1         </td> <td>132.1              </td> <td>0.795     </td> <td>19               </td> <td>27         </td> <td>74.48           </td> <td>142.17</td> <td>6.23            </td> <td>61.3   </td> <td>19.6        </td>\n",
       "        </tr>\n",
       "        <tr>\n",
       "            <td>6019001500  </td> <td>82.03        </td> <td>2206            </td> <td>Fresno           </td> <td>71.8        </td> <td>21.4     </td> <td>1.2                 </td> <td>0.5                </td> <td>4.5               </td> <td>0.6      </td> <td>93725</td> <td>-119.718 </td> <td>36.6816 </td> <td>0.065</td> <td>15.4 </td> <td>18.846   </td> <td>1000.24       </td> <td>3518.41   </td> <td>21790.7     </td> <td>435.16 </td> <td>60           </td> <td>54.2               </td> <td>13.1      </td> <td>0                </td> <td>50.8       </td> <td>80.2            </td> <td>90.48 </td> <td>4.5             </td> <td>66.4   </td> <td>18.6        </td>\n",
       "        </tr>\n",
       "        <tr>\n",
       "            <td>6037204920  </td> <td>80.73        </td> <td>2598            </td> <td>Los Angeles      </td> <td>98.1        </td> <td>1.2      </td> <td>0.1                 </td> <td>0.1                </td> <td>0.2               </td> <td>0.3      </td> <td>90023</td> <td>-118.197 </td> <td>34.0175 </td> <td>0.046</td> <td>12.89</td> <td>56.52    </td> <td>714.48        </td> <td>0         </td> <td>39040.2     </td> <td>2943.44</td> <td>36.7         </td> <td>25                 </td> <td>4.93      </td> <td>7                </td> <td>3.85       </td> <td>76.73           </td> <td>68.74 </td> <td>7.35            </td> <td>66.4   </td> <td>11.6        </td>\n",
       "        </tr>\n",
       "        <tr>\n",
       "            <td>6077000300  </td> <td>80.18        </td> <td>2396            </td> <td>San Joaquin      </td> <td>51.8        </td> <td>16.4     </td> <td>16.4                </td> <td>1.3                </td> <td>9.9               </td> <td>4.1      </td> <td>95203</td> <td>-121.302 </td> <td>37.9524 </td> <td>0.046</td> <td>13.44</td> <td>21.76    </td> <td>278.76        </td> <td>172.49    </td> <td>707.536     </td> <td>885.52 </td> <td>89.7         </td> <td>149.05             </td> <td>0.135     </td> <td>14               </td> <td>2.3        </td> <td>68.27           </td> <td>169.56</td> <td>8.36            </td> <td>76.2   </td> <td>14.4        </td>\n",
       "        </tr>\n",
       "        <tr>\n",
       "            <td>6019001000  </td> <td>80.13        </td> <td>4106            </td> <td>Fresno           </td> <td>52.7        </td> <td>2.7      </td> <td>28.7                </td> <td>0.4                </td> <td>14.3              </td> <td>1.2      </td> <td>93706</td> <td>-119.804 </td> <td>36.6978 </td> <td>0.065</td> <td>15.4 </td> <td>20.848   </td> <td>788.02        </td> <td>1435.93   </td> <td>6996.96     </td> <td>243.54 </td> <td>15.45        </td> <td>20                 </td> <td>0         </td> <td>0                </td> <td>10         </td> <td>66.88           </td> <td>142.28</td> <td>7.83            </td> <td>74.5   </td> <td>20          </td>\n",
       "        </tr>\n",
       "        <tr>\n",
       "            <td>6037206050  </td> <td>79.03        </td> <td>2146            </td> <td>Los Angeles      </td> <td>79.3        </td> <td>8.9      </td> <td>4.1                 </td> <td>0.1                </td> <td>7.2               </td> <td>0.5      </td> <td>90023</td> <td>-118.224 </td> <td>34.0299 </td> <td>0.046</td> <td>12.89</td> <td>53.958   </td> <td>664.07        </td> <td>0         </td> <td>10378.2     </td> <td>2810.82</td> <td>36.05        </td> <td>16.25              </td> <td>10.025    </td> <td>7                </td> <td>22.1       </td> <td>77.09           </td> <td>58.03 </td> <td>6.71            </td> <td>75.7   </td> <td>28.5        </td>\n",
       "        </tr>\n",
       "        <tr>\n",
       "            <td>6019000400  </td> <td>78.53        </td> <td>6343            </td> <td>Fresno           </td> <td>78          </td> <td>9.1      </td> <td>5.8                 </td> <td>0.8                </td> <td>5.3               </td> <td>0.9      </td> <td>93721</td> <td>-119.776 </td> <td>36.7277 </td> <td>0.065</td> <td>15.4 </td> <td>54.356   </td> <td>681.2         </td> <td>114.96    </td> <td>125384      </td> <td>815.36 </td> <td>15.95        </td> <td>13.5               </td> <td>0.755     </td> <td>0                </td> <td>0.5        </td> <td>73.89           </td> <td>107.8 </td> <td>4.79            </td> <td>83.4   </td> <td>23.5        </td>\n",
       "        </tr>\n",
       "    </tbody>\n",
       "</table>\n",
       "<p>... (7701 rows omitted)</p>"
      ],
      "text/plain": [
       "Census.Tract | CES.3.0.Score | Total.Population | California.County | Hispanic.... | White.... | African.American.... | Native.American.... | Asian.American.... | Other.... | ZIP   | Longitude | Latitude | Ozone | PM2.5 | Diesel.PM | Drinking.Water | Pesticides | Tox..Release | Traffic | Cleanup.Sites | Groundwater.Threats | Haz..Waste | Imp..Water.Bodies | Solid.Waste | Pollution.Burden | Asthma | Low.Birth.Weight | Poverty | Unemployment\n",
       "6019001100   | 94.09         | 3174             | Fresno            | 65.3         | 4.2       | 24.6                 | 0.5                 | 3.5                | 1.8       | 93706 | -119.782  | 36.7097  | 0.065 | 15.4  | 48.524    | 681.2          | 2.75       | 18552        | 909.14  | 80.5          | 45.75               | 0.795      | 0                 | 21.75       | 79.96            | 131.64 | 7.44             | 76.3    | 17.6\n",
       "6071001600   | 90.68         | 6133             | San Bernardino    | 91.1         | 5.8       | 0.7                  | 0.3                 | 1.4                | 0.7       | 91761 | -117.618  | 34.0578  | 0.062 | 13.31 | 38.556    | 904.66         | 1.37       | 7494.24      | 782.26  | 66.2          | 36                  | 1.25       | 5                 | 12          | 81.19            | 60.66  | 7.04             | 72.5    | 12.3\n",
       "6019000200   | 85.97         | 3167             | Fresno            | 63.6         | 5.3       | 18.9                 | 0.6                 | 9.8                | 1.8       | 93706 | -119.806  | 36.7355  | 0.062 | 15.4  | 47.445    | 681.2          | 3.03       | 12454.9      | 576.52  | 22            | 30.25               | 0.2        | 0                 | 2.5         | 71.16            | 142.12 | 10.16            | 86.8    | 16.1\n",
       "6077000801   | 82.49         | 6692             | San Joaquin       | 57.4         | 6         | 12.5                 | 0.3                 | 20.9               | 2.8       | 95203 | -121.315  | 37.9405  | 0.046 | 12.54 | 24.117    | 278.76         | 12.93      | 2387.78      | 1305.01 | 50.1          | 132.1               | 0.795      | 19                | 27          | 74.48            | 142.17 | 6.23             | 61.3    | 19.6\n",
       "6019001500   | 82.03         | 2206             | Fresno            | 71.8         | 21.4      | 1.2                  | 0.5                 | 4.5                | 0.6       | 93725 | -119.718  | 36.6816  | 0.065 | 15.4  | 18.846    | 1000.24        | 3518.41    | 21790.7      | 435.16  | 60            | 54.2                | 13.1       | 0                 | 50.8        | 80.2             | 90.48  | 4.5              | 66.4    | 18.6\n",
       "6037204920   | 80.73         | 2598             | Los Angeles       | 98.1         | 1.2       | 0.1                  | 0.1                 | 0.2                | 0.3       | 90023 | -118.197  | 34.0175  | 0.046 | 12.89 | 56.52     | 714.48         | 0          | 39040.2      | 2943.44 | 36.7          | 25                  | 4.93       | 7                 | 3.85        | 76.73            | 68.74  | 7.35             | 66.4    | 11.6\n",
       "6077000300   | 80.18         | 2396             | San Joaquin       | 51.8         | 16.4      | 16.4                 | 1.3                 | 9.9                | 4.1       | 95203 | -121.302  | 37.9524  | 0.046 | 13.44 | 21.76     | 278.76         | 172.49     | 707.536      | 885.52  | 89.7          | 149.05              | 0.135      | 14                | 2.3         | 68.27            | 169.56 | 8.36             | 76.2    | 14.4\n",
       "6019001000   | 80.13         | 4106             | Fresno            | 52.7         | 2.7       | 28.7                 | 0.4                 | 14.3               | 1.2       | 93706 | -119.804  | 36.6978  | 0.065 | 15.4  | 20.848    | 788.02         | 1435.93    | 6996.96      | 243.54  | 15.45         | 20                  | 0          | 0                 | 10          | 66.88            | 142.28 | 7.83             | 74.5    | 20\n",
       "6037206050   | 79.03         | 2146             | Los Angeles       | 79.3         | 8.9       | 4.1                  | 0.1                 | 7.2                | 0.5       | 90023 | -118.224  | 34.0299  | 0.046 | 12.89 | 53.958    | 664.07         | 0          | 10378.2      | 2810.82 | 36.05         | 16.25               | 10.025     | 7                 | 22.1        | 77.09            | 58.03  | 6.71             | 75.7    | 28.5\n",
       "6019000400   | 78.53         | 6343             | Fresno            | 78           | 9.1       | 5.8                  | 0.8                 | 5.3                | 0.9       | 93721 | -119.776  | 36.7277  | 0.065 | 15.4  | 54.356    | 681.2          | 114.96     | 125384       | 815.36  | 15.95         | 13.5                | 0.755      | 0                 | 0.5         | 73.89            | 107.8  | 4.79             | 83.4    | 23.5\n",
       "... (7701 rows omitted)"
      ]
     },
     "execution_count": 2,
     "metadata": {},
     "output_type": "execute_result"
    }
   ],
   "source": [
    "ces_data = Table.read_table(\"ces_data_v2.csv\")\n",
    "print(\"The original CalEnviroScreen data had \" + str(ces_data.num_rows) + \" rows.\")\n",
    "\n",
    "# this does a bit of data cleaning\n",
    "# don't worry about understanding these next few lines of code\n",
    "for i in np.arange(ces_data.num_columns):\n",
    "    if i != 3 and i != 11:\n",
    "        ces_data = ces_data.where(i, are.above_or_equal_to(0))\n",
    "print(\"The cleaned CalEnviroScreen data now has \" + str(ces_data.num_rows) + \" rows.\")\n",
    "ces_data"
   ]
  },
  {
   "cell_type": "markdown",
   "id": "82a3256c",
   "metadata": {},
   "source": [
    "Does the column \"California.County\" contain numerical or categorical data?"
   ]
  },
  {
   "cell_type": "markdown",
   "id": "7b992905",
   "metadata": {},
   "source": [
    "_Written Answer:_"
   ]
  },
  {
   "cell_type": "markdown",
   "id": "71aacfb4",
   "metadata": {},
   "source": [
    "Does the column \"ZIP\" contain numerical or categorical data?"
   ]
  },
  {
   "cell_type": "markdown",
   "id": "2c398d62",
   "metadata": {},
   "source": [
    "_Written Answer:_"
   ]
  },
  {
   "cell_type": "markdown",
   "id": "d6fea5a0",
   "metadata": {},
   "source": [
    "Does the column \"Asthma\" contain numerical or categorical data?"
   ]
  },
  {
   "cell_type": "markdown",
   "id": "0cfec625",
   "metadata": {},
   "source": [
    "_Written Answer:_"
   ]
  },
  {
   "cell_type": "markdown",
   "id": "fb7d01e8",
   "metadata": {},
   "source": [
    "You can see that looking at whether or not the data is a number is not sufficient enough to determine whether the data is numerical. Many times, categorical data can be represented with numbers in the way that the column \"Census.Tract\" does. Although census tracts are shown to be numbers, they represent a community or region."
   ]
  },
  {
   "cell_type": "markdown",
   "id": "4fd829b8",
   "metadata": {},
   "source": [
    "## 2. Scatter Plots <a id='section 2'></a>\n",
    "    \n",
    "A scatter plot is a visualization that is pretty easy to recognize. Each datapoint (or row in our table) gets its own point and is placed on a graph where the x-axis and y-axis denote different numerical attributes. It requires the use of method call `tbl.scatter(x_axis_colummn, y_axis_column)`.\n",
    "\n",
    "As denoted earlier, the CalEnviroScreen dataset has thousands of rows. If we choose to visualize all of our data, it might be hard to see the individual points. In fact, making a visualization with this many points will make it hard for this notebook to run. To prevent these issues from occurring, select a single county to work with. Recall from a previous notebook that counties made of two words (like \"Los Angeles\") are written normally, but counties made of one word (like \"Alameda \") have a space at the end.\n",
    "\n",
    "**Assign the string of this county to `your_county` and take note that we are now using a table called `your_data`.**"
   ]
  },
  {
   "cell_type": "code",
   "execution_count": null,
   "id": "39d47630",
   "metadata": {},
   "outputs": [],
   "source": [
    "your_county = ...\n",
    "\n",
    "your_data = ces_data.where(\"California.County\", your_county)\n",
    "your_data"
   ]
  },
  {
   "cell_type": "markdown",
   "id": "00967196",
   "metadata": {},
   "source": [
    "Recall that [Report 06](https://highschool.datahub.berkeley.edu/hub/user-redirect/git-pull?repo=https%3A%2F%2Fgithub.com%2Fds-modules%2FBUDS-SU22&urlpath=tree%2FBUDS-SU22%2FWeek-2%2F6_Creating-Tables.ipynb&branch=main) looked at the poverty rate in California. Let's continue to look at this aspect of California tracts.\n",
    "\n",
    "<div class=\"alert alert-warning\">\n",
    "    <b>PRACTICE:</b> In the following cell, create a scatter plot with poverty on the x-axis and pollution burden on the y-axis.\n",
    "    </div>"
   ]
  },
  {
   "cell_type": "code",
   "execution_count": null,
   "id": "6fd958ad",
   "metadata": {},
   "outputs": [],
   "source": [
    "..."
   ]
  },
  {
   "cell_type": "markdown",
   "id": "91e2a569",
   "metadata": {},
   "source": [
    "It seems like there might be a slight upward trend, so let's consider what the pollution burden refers to. Refer back to your reference sheet and talk about why you might see this upward trend in the scatter plot. Feel free to look back at the [CalEnviroScreen reference sheet](https://drive.google.com/file/d/1i8Jr_y_Q49Kkf2fTzcwYXh-uYUIjiHlJ/view) or the [official CalEnviroScreen report](https://oehha.ca.gov/media/downloads/calenviroscreen/report/calenviroscreen40reportf2021.pdf/)."
   ]
  },
  {
   "cell_type": "markdown",
   "id": "eca94d76",
   "metadata": {},
   "source": [
    "_Written Answer:_"
   ]
  },
  {
   "cell_type": "markdown",
   "id": "417aaf37",
   "metadata": {},
   "source": [
    "<div class=\"alert alert-warning\">\n",
    "    <b>PRACTICE:</b> Many other indicators are considered when the CalEnviroScreen data was collected. Let's look at whether there is an association between health indicators and poverty. In the next cell, create two separate scatter plots looking at the two health indicators included in the dataset. Place them on the y-axis.\n",
    "    </div>"
   ]
  },
  {
   "cell_type": "code",
   "execution_count": null,
   "id": "9665af77",
   "metadata": {},
   "outputs": [],
   "source": [
    "..."
   ]
  },
  {
   "cell_type": "markdown",
   "id": "5ba4a979",
   "metadata": {},
   "source": [
    "We see a similar trend as the previous scatter plot. Again, think about reasons we might see a correlation between these attributes. List a few that you think of. It might be helpful to consider how these characteristics were measured."
   ]
  },
  {
   "cell_type": "markdown",
   "id": "38a4f72e",
   "metadata": {},
   "source": [
    "_Written Answer:_"
   ]
  },
  {
   "cell_type": "markdown",
   "id": "04fbc9d4",
   "metadata": {},
   "source": [
    "<div class=\"alert alert-warning\">\n",
    "    <b>PRACTICE:</b> Finally, create a scatter plot with poverty on the x-axis and the CalEnviroScreen Score on the y-axis. \n",
    "    </div>"
   ]
  },
  {
   "cell_type": "code",
   "execution_count": null,
   "id": "294ee686",
   "metadata": {},
   "outputs": [],
   "source": [
    "..."
   ]
  },
  {
   "cell_type": "markdown",
   "id": "05f04e53",
   "metadata": {},
   "source": [
    "There seems to be a stronger/clearer relationship between the CalEnviroScreen score and poverty than the other three relationships we viewed. Why might we see this? Consider what the CalEnviroScreen score is composed of."
   ]
  },
  {
   "cell_type": "markdown",
   "id": "979ba424",
   "metadata": {},
   "source": [
    "_Written Answer:_"
   ]
  },
  {
   "cell_type": "markdown",
   "id": "f5aa6595",
   "metadata": {},
   "source": [
    "### Reading Documentation\n",
    "\n",
    "Although looking at these scatter plots provide insight into the county you chose, it may be helpful to compare scatter plots of multiple different counties. Again, you can't do this with the whole dataset, but you can consider a smaller subset of counties.\n",
    "\n",
    "Create and assign an array containing two different California counties to the variable `more_counties`. For reference, we have printed all California counties in the following cell.\n",
    "\n",
    "**Make sure you take note of whether there is a space after the county name or not.**"
   ]
  },
  {
   "cell_type": "code",
   "execution_count": 12,
   "id": "aea6d052",
   "metadata": {},
   "outputs": [
    {
     "data": {
      "text/plain": [
       "array(['Alameda ', 'Amador ', 'Butte ', 'Calaveras ', 'Colusa ',\n",
       "       'Contra Costa', 'Del Norte', 'El Dorado', 'Fresno ', 'Glenn ',\n",
       "       'Humboldt ', 'Imperial ', 'Inyo ', 'Kern ', 'Kings ', 'Lake ',\n",
       "       'Lassen ', 'Los Angeles', 'Madera ', 'Marin ', 'Mariposa ',\n",
       "       'Mendocino ', 'Merced ', 'Mono ', 'Monterey ', 'Napa ', 'Nevada ',\n",
       "       'Orange ', 'Placer ', 'Plumas ', 'Riverside ', 'Sacramento ',\n",
       "       'San Benito', 'San Bernardino', 'San Diego', 'San Francisco',\n",
       "       'San Joaquin', 'San Luis Obispo', 'San Mateo', 'Santa Barbara',\n",
       "       'Santa Clara', 'Santa Cruz', 'Shasta ', 'Sierra ', 'Siskiyou ',\n",
       "       'Solano ', 'Sonoma ', 'Stanislaus ', 'Sutter ', 'Tehama ',\n",
       "       'Trinity ', 'Tulare ', 'Tuolumne ', 'Ventura ', 'Yolo ', 'Yuba '],\n",
       "      dtype='<U15')"
      ]
     },
     "execution_count": 12,
     "metadata": {},
     "output_type": "execute_result"
    }
   ],
   "source": [
    "# just run this cell; you don't need to understand the code\n",
    "ces_data.group(\"California.County\").column(0)"
   ]
  },
  {
   "cell_type": "code",
   "execution_count": null,
   "id": "e6e99d45",
   "metadata": {},
   "outputs": [],
   "source": [
    "more_counties = ...\n",
    "\n",
    "more_data = ces_data.where(\"California.County\", are.contained_in(more_counties))\n",
    "more_data"
   ]
  },
  {
   "cell_type": "markdown",
   "id": "3e1df607",
   "metadata": {},
   "source": [
    "Great! Now you have a dataset with your selected counties. In order to create a scatter plot that effectively compares multiple counties, you need to add a few arguments to your call expression. You need to do this because this scatter plot is not like the previous scatter plots. \n",
    "\n",
    "Instead of having you copy and paste code, let's practice reading documentation! Recall that **documentation** is a description that explains the arguments that a function/method takes and what it does.\n",
    "\n",
    "JupyterNotebook offers a helpful tool in quickly attaining documentation of a command. Here's how you can do it:\n",
    "\n",
    "- Click on the function/method that you are calling.\n",
    "- Press **`Shift + Tab`** at the same time.\n",
    "    - At this point, a little pop-up menu should show up.\n",
    "- Select the caret symbol `^` to get a full screen view of the documentation.\n",
    "    - Otherwise you can select the plus sign `+` for a minimized documentation window.\n",
    "    \n",
    "\n",
    "<div class=\"alert alert-warning\">\n",
    "    <b>PRACTICE:</b> Try doing this with <code>np.arange</code> in the cell below. Be sure to click on the <code>arange</code> portion, as that is the function that we want to call. Numpy (denoted <code>np</code>) is the library that houses the function <code>arange</code>. In the following Markdown cell, explain what you see in the documentation.\n",
    "    </div>"
   ]
  },
  {
   "cell_type": "code",
   "execution_count": null,
   "id": "09b5a090",
   "metadata": {},
   "outputs": [],
   "source": [
    "np.arange(0, 10, 2)"
   ]
  },
  {
   "cell_type": "markdown",
   "id": "9c291526",
   "metadata": {},
   "source": [
    "_Written Answer:_"
   ]
  },
  {
   "cell_type": "markdown",
   "id": "f9258636",
   "metadata": {},
   "source": [
    "<div class=\"alert alert-warning\">\n",
    "    <b>PRACTICE:</b> Repeat this process with the <code>scatter</code> method. A number of phrases (like \"Signature\" and \"Docstring\") might show up. Take note of the similarities between the documentation of <code>arange</code> and the documentation of <code>scatter</code>. What do you think is being described in the documentation of <code>scatter</code>? You don't need to understand all items in the documentation, but try skimming all parts.\n",
    "    </div>\n",
    "    \n",
    "Once you have done this, talk to your team and facilitators about your guesses."
   ]
  },
  {
   "cell_type": "code",
   "execution_count": null,
   "id": "c8d99bca",
   "metadata": {},
   "outputs": [],
   "source": [
    "more_data.scatter(...)"
   ]
  },
  {
   "cell_type": "markdown",
   "id": "53aaa240",
   "metadata": {},
   "source": [
    "_Written Answer:_"
   ]
  },
  {
   "cell_type": "markdown",
   "id": "3c84931f",
   "metadata": {},
   "source": [
    "<div class=\"alert alert-warning\">\n",
    "    <b>PRACTICE:</b> Now that you have an idea of how <code>scatter</code> works and what each of its arguments are, create a scatter plot of your two counties' poverty-CalEnviroScreen score relationships. Keep \"Poverty\" on the x-axis and \"CES.3.0.Score\" on the y-axis. Try adjusting the different arguments so that your visualization is easier to interpret. For example, you might want to alter the size of the points if you have a county with many tracts.\n",
    "    </div>"
   ]
  },
  {
   "cell_type": "code",
   "execution_count": null,
   "id": "7e474c60",
   "metadata": {},
   "outputs": [],
   "source": [
    "more_data.scatter(...)"
   ]
  },
  {
   "cell_type": "markdown",
   "id": "1e0a22e9",
   "metadata": {},
   "source": [
    "Compare and contrast the two counties you just made a visualization of. Are there similarities in their trends? What differences do you see (if any stand out)?"
   ]
  },
  {
   "cell_type": "markdown",
   "id": "237714ae",
   "metadata": {},
   "source": [
    "_Written Answer:_"
   ]
  },
  {
   "cell_type": "markdown",
   "id": "caacf8a2",
   "metadata": {},
   "source": [
    "## 3. Histograms <a id='section 3'></a>\n",
    "\n",
    "Another type of visualization that you may have seen before is a histogram. Because it displays the distribution of a quantitative variable, it is very useful for numerical data. In the context of a histogram, a **distribution** will show how frequently numbers from a number range appear.\n",
    "\n",
    "Run the following cell to see the distribution of CalEnviroScreen scores. Call expressions that make histograms will always follow this format: `tbl.hist(x_axis_column, normed=False)`."
   ]
  },
  {
   "cell_type": "code",
   "execution_count": 15,
   "id": "067aba93",
   "metadata": {},
   "outputs": [
    {
     "data": {
      "image/png": "[encoded data removed]",
      "text/plain": [
       "<Figure size 432x288 with 1 Axes>"
      ]
     },
     "metadata": {
      "needs_background": "light"
     },
     "output_type": "display_data"
    }
   ],
   "source": [
    "ces_data.hist(\"CES.3.0.Score\", normed=False)"
   ]
  },
  {
   "cell_type": "markdown",
   "id": "4845f259",
   "metadata": {},
   "source": [
    "What do you notice about the shape of this histogram? Is it nice and even? Does it pull off into one direction?"
   ]
  },
  {
   "cell_type": "markdown",
   "id": "7bcce8aa",
   "metadata": {},
   "source": [
    "_Written Answer:_"
   ]
  },
  {
   "cell_type": "markdown",
   "id": "b67a3a08",
   "metadata": {},
   "source": [
    "<div class=\"alert alert-warning\">\n",
    "    <b>PRACTICE:</b> Let's once again take a look at either poverty or unemployment to create a visualization. (Choose which one you'd like to look at.) Make sure to use <code>ces_data</code> and the <code>normed=False</code> argument. How does this histogram's shape and spread compare to the histogram of CES scores?\n",
    "    </div>"
   ]
  },
  {
   "cell_type": "code",
   "execution_count": null,
   "id": "59043f39",
   "metadata": {},
   "outputs": [],
   "source": [
    "..."
   ]
  },
  {
   "cell_type": "markdown",
   "id": "63748efc",
   "metadata": {},
   "source": [
    "_Written Answer:_"
   ]
  },
  {
   "cell_type": "markdown",
   "id": "312d0084",
   "metadata": {},
   "source": [
    "We're able to use the entire dataset with histograms because it requires less computation to generate histograms than it does scatter plots. Still, it might be useful to look at a subset of our data again. Let's stick to using the tables you created earlier. Recall that you have one county in the `your_data` table and multiple counties in the `more_data` table."
   ]
  },
  {
   "cell_type": "code",
   "execution_count": 17,
   "id": "159e75b0",
   "metadata": {},
   "outputs": [
    {
     "name": "stdout",
     "output_type": "stream",
     "text": [
      "The county in your_data is: \n",
      " - Alameda \n",
      "The counties in more_data are: \n",
      " - Alameda \n",
      " - Kern \n"
     ]
    }
   ],
   "source": [
    "# run this cell\n",
    "print(\"The county in your_data is: \")\n",
    "print(\" - \" + your_county)\n",
    "\n",
    "print(\"The counties in more_data are: \")\n",
    "for county in more_counties:\n",
    "    print(\" - \" + county)"
   ]
  },
  {
   "cell_type": "markdown",
   "id": "aa2cfc9e",
   "metadata": {},
   "source": [
    "<div class=\"alert alert-warning\">\n",
    "    <b>PRACTICE:</b> Create the same histogram you made in the last \"PRACTICE\" question. This time, make it with <code>your_data</code> and see how its distribution compares to the rest of California. Note the differences and similarities. Draw on what you know about this county and explain why this might be.\n",
    "    </div>"
   ]
  },
  {
   "cell_type": "code",
   "execution_count": null,
   "id": "aad90b97",
   "metadata": {},
   "outputs": [],
   "source": [
    "..."
   ]
  },
  {
   "cell_type": "markdown",
   "id": "78e276c6",
   "metadata": {},
   "source": [
    "_Written Answer:_"
   ]
  },
  {
   "cell_type": "markdown",
   "id": "38dda753",
   "metadata": {},
   "source": [
    "<div class=\"alert alert-warning\">\n",
    "    <b>PRACTICE:</b> Try making a histogram that displays multiple different counties. Keep the same column on the x-axis as the previous two histograms and read the documentation of <code>hist</code> in the same way you read the documentation of <code>scatter</code>. Again, try adjusting the different arguments so that your visualization is easier to interpret.\n",
    "    \n",
    "Please be sure to keep the <code>normed=False</code> argument!\n",
    "    </div>\n",
    "\n",
    "As usual, discuss any arguments that are confusing or not quite intuitive with your team and your facilitators.\n",
    "\n",
    "Also ignore any red warning signs if your visualization successfully appears. The message will not break your computer or cause any issues; it's simply indicating that something is out-of-date. Don't worry about this."
   ]
  },
  {
   "cell_type": "code",
   "execution_count": null,
   "id": "85734615",
   "metadata": {},
   "outputs": [],
   "source": [
    "more_data.hist(...)"
   ]
  },
  {
   "cell_type": "markdown",
   "id": "80536e2d",
   "metadata": {},
   "source": [
    "<div class=\"alert alert-warning\">\n",
    "    <b>PRACTICE:</b> You might find that the shapes of these distributions are drastically different. Let's try a new subset of counties. Choose two new counties that you think might have similar population sizes and characteristics.\n",
    "\n",
    "If your above distributions are already pretty similar, choose two counties that you think are pretty different.\n",
    "\n",
    "    \n",
    "Then, make the same histogram as above using these new counties.\n",
    "    </div>"
   ]
  },
  {
   "cell_type": "code",
   "execution_count": null,
   "id": "41bae60f",
   "metadata": {},
   "outputs": [],
   "source": [
    "diff_counties = ...\n",
    "\n",
    "diff_data = ces_data.where(\"California.County\", are.contained_in(diff_counties))\n",
    "diff_data"
   ]
  },
  {
   "cell_type": "code",
   "execution_count": null,
   "id": "c0401193",
   "metadata": {},
   "outputs": [],
   "source": [
    "..."
   ]
  },
  {
   "cell_type": "markdown",
   "id": "d4bba1a8",
   "metadata": {},
   "source": [
    "Do you find that the histograms with similar counties are easier to interpret than the histograms with different counties? Do you see any issues with this visualization? For example, what might be an issue when comparing counties with very different population sizes?"
   ]
  },
  {
   "cell_type": "markdown",
   "id": "0115961b",
   "metadata": {},
   "source": [
    "_Written Answer:_"
   ]
  },
  {
   "cell_type": "markdown",
   "id": "a350fe24",
   "metadata": {},
   "source": [
    "Not all of the histograms look as nice as the CalEnviroScreen score histogram because some of our data is distributed differently. For example, take a look at the pesticides distribution. Even if you make changes to its arguments, the visualization is hard to use."
   ]
  },
  {
   "cell_type": "code",
   "execution_count": 22,
   "id": "194e112c",
   "metadata": {
    "scrolled": true
   },
   "outputs": [
    {
     "name": "stderr",
     "output_type": "stream",
     "text": [
      "/opt/conda/lib/python3.9/site-packages/datascience/tables.py:920: VisibleDeprecationWarning: Creating an ndarray from ragged nested sequences (which is a list-or-tuple of lists-or-tuples-or ndarrays with different lengths or shapes) is deprecated. If you meant to do this, you must specify 'dtype=object' when creating the ndarray.\n",
      "  values = np.array(tuple(values))\n"
     ]
    },
    {
     "data": {
      "image/png": "[encoded data removed]",
      "text/plain": [
       "<Figure size 432x288 with 1 Axes>"
      ]
     },
     "metadata": {
      "needs_background": "light"
     },
     "output_type": "display_data"
    }
   ],
   "source": [
    "diff_data.hist(\"Pesticides\", bins=30, unit=\"total pounds per square mile\", group=\"California.County\", normed=False)"
   ]
  },
  {
   "cell_type": "markdown",
   "id": "16959f25",
   "metadata": {},
   "source": [
    "## 4. Bar Charts <a id='section 4'></a>\n",
    "\n",
    "It's a little hard to work with the current `ces_data` table because there are so many census tracts. Let's try looking at unique counties instead of unique census tracts. To do so, we need to think about how we want to represent our information. For example, is it better to take the *sum* of the SF county census tracts' populations or the *average* of the SF county census tracts' populations? Should we take the *sum* of unemployment percentages or the *average* of unemployment percentages?\n",
    "\n",
    "<div class=\"alert alert-warning\">\n",
    "    <b>PRACTICE:</b> Assign <code>sum_attributes</code> to a new array containing \"California.County\" and the name of the column we would want to take sums of. You don't need to know how the following line of code works, but you can read it and see if you have an idea of what happens in that line.\n",
    "    </div>"
   ]
  },
  {
   "cell_type": "code",
   "execution_count": null,
   "id": "f78b3fc4",
   "metadata": {},
   "outputs": [],
   "source": [
    "sum_attributes = ...\n",
    "\n",
    "county_sums = ces_data.select(sum_attributes).group(\"California.County\", sum)\n",
    "county_sums"
   ]
  },
  {
   "cell_type": "markdown",
   "id": "095c3366",
   "metadata": {},
   "source": [
    "<div class=\"alert alert-warning\">\n",
    "    <b>PRACTICE:</b> Now assign <code>avg_attributes</code> to an array with \"California.County\", \"CES.3.0.Score\", and three other columns that we would want to take averages of. Again, you don't need to know how the following line works.\n",
    "    </div>"
   ]
  },
  {
   "cell_type": "code",
   "execution_count": null,
   "id": "2ec49369",
   "metadata": {},
   "outputs": [],
   "source": [
    "avg_attributes = ...\n",
    "\n",
    "county_avgs = ces_data.select(avg_attributes).group(\"California.County\", np.average)\n",
    "county_avgs"
   ]
  },
  {
   "cell_type": "markdown",
   "id": "f7dce485",
   "metadata": {},
   "source": [
    "Notice what happens after we made tables with only one row per unique county. Both tables have only 56 rows (or 56 counties) and now have different column names.\n",
    "\n",
    "Since visualizing 56 different counties might get a little messy, we'll only work with bay area counties for the remainder of the notebook. You don't need to understand the next code cell, but it might help you understand what has happened.\n",
    "\n",
    "In the next cell, we join the `county_sums` table with the `county_avgs` table so that all the data can be accessed in one table. Then, we make an array with only bay area counties and keep the rows where \"California.County\" is a bay area county."
   ]
  },
  {
   "cell_type": "code",
   "execution_count": 25,
   "id": "7e6a73f8",
   "metadata": {},
   "outputs": [
    {
     "data": {
      "text/html": [
       "<table border=\"1\" class=\"dataframe\">\n",
       "    <thead>\n",
       "        <tr>\n",
       "            <th>California.County</th> <th>Total.Population sum</th> <th>CES.3.0.Score average</th> <th>Ozone average</th> <th>PM2.5 average</th> <th>Diesel.PM average</th>\n",
       "        </tr>\n",
       "    </thead>\n",
       "    <tbody>\n",
       "        <tr>\n",
       "            <td>Alameda          </td> <td>1474913             </td> <td>23.1082              </td> <td>0.032616     </td> <td>8.77722      </td> <td>33.0201          </td>\n",
       "        </tr>\n",
       "        <tr>\n",
       "            <td>Contra Costa     </td> <td>1027163             </td> <td>20.0772              </td> <td>0.036275     </td> <td>8.01259      </td> <td>14.8781          </td>\n",
       "        </tr>\n",
       "        <tr>\n",
       "            <td>Marin            </td> <td>246517              </td> <td>8.83736              </td> <td>0.0306226    </td> <td>7.21895      </td> <td>7.40162          </td>\n",
       "        </tr>\n",
       "        <tr>\n",
       "            <td>Napa             </td> <td>134454              </td> <td>17.0926              </td> <td>0.0348158    </td> <td>7.71991      </td> <td>9.20958          </td>\n",
       "        </tr>\n",
       "        <tr>\n",
       "            <td>San Francisco    </td> <td>793042              </td> <td>17.2039              </td> <td>0.03         </td> <td>8.57085      </td> <td>64.6639          </td>\n",
       "        </tr>\n",
       "        <tr>\n",
       "            <td>San Mateo        </td> <td>709378              </td> <td>16.1459              </td> <td>0.0318506    </td> <td>9.02458      </td> <td>16.2943          </td>\n",
       "        </tr>\n",
       "        <tr>\n",
       "            <td>Santa Clara      </td> <td>1773846             </td> <td>18.5394              </td> <td>0.0367302    </td> <td>10.1486      </td> <td>21.4824          </td>\n",
       "        </tr>\n",
       "        <tr>\n",
       "            <td>Solano           </td> <td>397547              </td> <td>23.2822              </td> <td>0.0383626    </td> <td>7.89183      </td> <td>13.5457          </td>\n",
       "        </tr>\n",
       "        <tr>\n",
       "            <td>Sonoma           </td> <td>475933              </td> <td>16.3741              </td> <td>0.0316458    </td> <td>6.53593      </td> <td>10.8022          </td>\n",
       "        </tr>\n",
       "    </tbody>\n",
       "</table>"
      ],
      "text/plain": [
       "California.County | Total.Population sum | CES.3.0.Score average | Ozone average | PM2.5 average | Diesel.PM average\n",
       "Alameda           | 1474913              | 23.1082               | 0.032616      | 8.77722       | 33.0201\n",
       "Contra Costa      | 1027163              | 20.0772               | 0.036275      | 8.01259       | 14.8781\n",
       "Marin             | 246517               | 8.83736               | 0.0306226     | 7.21895       | 7.40162\n",
       "Napa              | 134454               | 17.0926               | 0.0348158     | 7.71991       | 9.20958\n",
       "San Francisco     | 793042               | 17.2039               | 0.03          | 8.57085       | 64.6639\n",
       "San Mateo         | 709378               | 16.1459               | 0.0318506     | 9.02458       | 16.2943\n",
       "Santa Clara       | 1773846              | 18.5394               | 0.0367302     | 10.1486       | 21.4824\n",
       "Solano            | 397547               | 23.2822               | 0.0383626     | 7.89183       | 13.5457\n",
       "Sonoma            | 475933               | 16.3741               | 0.0316458     | 6.53593       | 10.8022"
      ]
     },
     "execution_count": 25,
     "metadata": {},
     "output_type": "execute_result"
    }
   ],
   "source": [
    "county_statistics = county_sums.join(\"California.County\", county_avgs)\n",
    "\n",
    "bay_counties = make_array(\"Alameda \", \"Contra Costa\", \"Marin \", \"Napa \", \"San Mateo\", \"Santa Clara\", \"Solano \", \"Sonoma \", \"San Francisco\")\n",
    "bay_county_statistics = county_statistics.where(\"California.County\", are.contained_in(bay_counties))\n",
    "\n",
    "bay_county_statistics"
   ]
  },
  {
   "cell_type": "markdown",
   "id": "009b54ae",
   "metadata": {},
   "source": [
    "Now that you've set up a table with the necessary information, you can go ahead and make a bar chart. Calls to create bar charts follow the following format: `tbl.barh(category_column, count_column)`.\n",
    "\n",
    "We use `barh` instead of `bar` because horizontal bar charts tend to present better on JupyterNotebooks.\n",
    "\n",
    "<div class=\"alert alert-warning\">\n",
    "    <b>PRACTICE:</b> Create a (horizontal) bar chart with the bay area counties as its categories and the column you took sums of as its counts.\n",
    "    </div>"
   ]
  },
  {
   "cell_type": "code",
   "execution_count": null,
   "id": "88b3aeea",
   "metadata": {},
   "outputs": [],
   "source": [
    "..."
   ]
  },
  {
   "cell_type": "markdown",
   "id": "ddaa45b8",
   "metadata": {},
   "source": [
    "Let's sort the bars in order so that we have a better idea of the relative differences between different counties. Notice that the counties in the above bar graph are sorted in the same order as the column \"California.County\" in the `bay_county_statistics` table. Try to think of how we could get our bars to appear in order of lowest total population to highest."
   ]
  },
  {
   "cell_type": "code",
   "execution_count": null,
   "id": "e20c9fda",
   "metadata": {},
   "outputs": [],
   "source": [
    "..."
   ]
  },
  {
   "cell_type": "markdown",
   "id": "55f497f3",
   "metadata": {},
   "source": [
    "### Time Permitting (Optional)\n",
    "\n",
    "Finally, create more bar charts for the columns you took averges of. Feel free to read the documentation of `barh` in the same way you read the documentation of `scatter` and `hist`. This might make your visualizations much cleaner."
   ]
  },
  {
   "cell_type": "code",
   "execution_count": null,
   "id": "883add1b",
   "metadata": {},
   "outputs": [],
   "source": [
    "..."
   ]
  },
  {
   "cell_type": "code",
   "execution_count": null,
   "id": "e0ca3f18",
   "metadata": {},
   "outputs": [],
   "source": [
    "..."
   ]
  },
  {
   "cell_type": "code",
   "execution_count": null,
   "id": "732218d3",
   "metadata": {},
   "outputs": [],
   "source": [
    "..."
   ]
  },
  {
   "cell_type": "markdown",
   "id": "53b93848",
   "metadata": {},
   "source": [
    "### Downloading as PDF\n",
    "\n",
    "Congratulations on finishing this lengthy report!\n",
    "\n",
    "Download this notebook as a pdf by clicking <b><code>File > Download as > PDF via LaTeX</code></b>. Turn in the PDF into bCourses under the corresponding assignment."
   ]
  }
 ],
 "metadata": {
  "kernelspec": {
   "display_name": "Python 3 (ipykernel)",
   "language": "python",
   "name": "python3"
  },
  "language_info": {
   "codemirror_mode": {
    "name": "ipython",
    "version": 3
   },
   "file_extension": ".py",
   "mimetype": "text/x-python",
   "name": "python",
   "nbconvert_exporter": "python",
   "pygments_lexer": "ipython3",
   "version": "3.9.13"
  }
 },
 "nbformat": 4,
 "nbformat_minor": 5
}
