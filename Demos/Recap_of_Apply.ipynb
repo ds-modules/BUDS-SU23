{
 "cells": [
  {
   "cell_type": "code",
   "execution_count": 1,
   "id": "3bf80e79",
   "metadata": {},
   "outputs": [],
   "source": [
    "# run this cell\n",
    "import pandas as pd\n",
    "from datascience import *\n",
    "import numpy as np\n",
    "import math\n",
    "import matplotlib.pyplot as plt\n",
    "plt.style.use('fivethirtyeight')\n",
    "%matplotlib inline"
   ]
  },
  {
   "cell_type": "markdown",
   "id": "d050bb20",
   "metadata": {},
   "source": [
    "# <div align=\"center\">Recap of Apply"
   ]
  },
  {
   "cell_type": "markdown",
   "id": "89c62e8a",
   "metadata": {},
   "source": [
    "**Created By: Edwin Vargas Navarro (jedwin321@berkeley.edu)**"
   ]
  },
  {
   "cell_type": "markdown",
   "id": "926c2eb7",
   "metadata": {},
   "source": [
    "# Table of Contents\n",
    "1. Report 12 Notebook Questions:\n",
    "    - Age Correction\n",
    "    - House and Car Payments\n",
    "<br/><br/>\n",
    "2. Extracting Months\n",
    "    - Str.split\n",
    "    - Getting Month from year-month-day formate \n",
    "    - Convert Month Number to Month Name"
   ]
  },
  {
   "cell_type": "markdown",
   "id": "b7caf3da",
   "metadata": {},
   "source": [
    "## 1. Spotify Notebook Questions"
   ]
  },
  {
   "cell_type": "markdown",
   "id": "945e9a42",
   "metadata": {},
   "source": [
    "<div class=\"alert alert-warning\">\n",
    "Now, we can see that the ages are wrong.\n",
    "</div>"
   ]
  },
  {
   "cell_type": "code",
   "execution_count": 2,
   "id": "ed7e4b71",
   "metadata": {},
   "outputs": [
    {
     "data": {
      "text/html": [
       "<table border=\"1\" class=\"dataframe\">\n",
       "    <thead>\n",
       "        <tr>\n",
       "            <th>Person</th> <th>Birth Year</th> <th>Age</th> <th>Car Purchase</th> <th>House Purchase</th>\n",
       "        </tr>\n",
       "    </thead>\n",
       "    <tbody>\n",
       "        <tr>\n",
       "            <td>Jim    </td> <td>1985      </td> <td>37  </td> <td>2020        </td> <td>2007          </td>\n",
       "        </tr>\n",
       "        <tr>\n",
       "            <td>Pam    </td> <td>1988      </td> <td>34  </td> <td>2005        </td> <td>2013          </td>\n",
       "        </tr>\n",
       "        <tr>\n",
       "            <td>Michael</td> <td>1967      </td> <td>55  </td> <td>2003        </td> <td>1990          </td>\n",
       "        </tr>\n",
       "        <tr>\n",
       "            <td>Creed  </td> <td>1904      </td> <td>1180</td> <td>2019        </td> <td>2021          </td>\n",
       "        </tr>\n",
       "    </tbody>\n",
       "</table>"
      ],
      "text/plain": [
       "Person  | Birth Year | Age  | Car Purchase | House Purchase\n",
       "Jim     | 1985       | 37   | 2020         | 2007\n",
       "Pam     | 1988       | 34   | 2005         | 2013\n",
       "Michael | 1967       | 55   | 2003         | 1990\n",
       "Creed   | 1904       | 1180 | 2019         | 2021"
      ]
     },
     "execution_count": 2,
     "metadata": {},
     "output_type": "execute_result"
    }
   ],
   "source": [
    "# create a table of people\n",
    "data_2022 = Table().with_columns(\n",
    "    'Person', make_array('Jim', 'Pam', 'Michael', 'Creed'),\n",
    "    'Birth Year', make_array(1985, 1988, 1967, 1904),\n",
    "    'Age', make_array(37, 34, 55, 1180),\n",
    "    'Car Purchase', make_array(2020, 2005, 2003, 2019),\n",
    "    'House Purchase', make_array(2007, 2013, 1990, 2021)\n",
    ")\n",
    "data_2022"
   ]
  },
  {
   "cell_type": "markdown",
   "id": "6be9e583",
   "metadata": {},
   "source": [
    "## Age Correction"
   ]
  },
  {
   "cell_type": "markdown",
   "id": "85d15ad0",
   "metadata": {},
   "source": [
    "<div class=\"alert alert-warning\">\n",
    "    <b>PRACTICE:</b> Use <code>apply</code> and the function above to update the \"Age\" column in our table.\n",
    "</div>"
   ]
  },
  {
   "cell_type": "code",
   "execution_count": 3,
   "id": "b83682ed",
   "metadata": {},
   "outputs": [],
   "source": [
    "def find_age(year):\n",
    "    \"finds a person's age in the year 2022\"\n",
    "    return 2022 - year"
   ]
  },
  {
   "cell_type": "code",
   "execution_count": 4,
   "id": "c4781597",
   "metadata": {},
   "outputs": [
    {
     "data": {
      "text/html": [
       "<table border=\"1\" class=\"dataframe\">\n",
       "    <thead>\n",
       "        <tr>\n",
       "            <th>Person</th> <th>Birth Year</th> <th>Age</th> <th>Car Purchase</th> <th>House Purchase</th>\n",
       "        </tr>\n",
       "    </thead>\n",
       "    <tbody>\n",
       "        <tr>\n",
       "            <td>Jim    </td> <td>1985      </td> <td>37  </td> <td>2020        </td> <td>2007          </td>\n",
       "        </tr>\n",
       "        <tr>\n",
       "            <td>Pam    </td> <td>1988      </td> <td>34  </td> <td>2005        </td> <td>2013          </td>\n",
       "        </tr>\n",
       "        <tr>\n",
       "            <td>Michael</td> <td>1967      </td> <td>55  </td> <td>2003        </td> <td>1990          </td>\n",
       "        </tr>\n",
       "        <tr>\n",
       "            <td>Creed  </td> <td>1904      </td> <td>118 </td> <td>2019        </td> <td>2021          </td>\n",
       "        </tr>\n",
       "    </tbody>\n",
       "</table>"
      ],
      "text/plain": [
       "Person  | Birth Year | Age  | Car Purchase | House Purchase\n",
       "Jim     | 1985       | 37   | 2020         | 2007\n",
       "Pam     | 1988       | 34   | 2005         | 2013\n",
       "Michael | 1967       | 55   | 2003         | 1990\n",
       "Creed   | 1904       | 118  | 2019         | 2021"
      ]
     },
     "execution_count": 4,
     "metadata": {},
     "output_type": "execute_result"
    }
   ],
   "source": [
    "new_ages = data_2022.apply(find_age, 'Birth Year')\n",
    "data_2022 = data_2022.with_column('Age', new_ages)\n",
    "data_2022"
   ]
  },
  {
   "cell_type": "markdown",
   "id": "76697e87",
   "metadata": {},
   "source": [
    "## House and Car Payments"
   ]
  },
  {
   "cell_type": "markdown",
   "id": "d30a9068",
   "metadata": {},
   "source": [
    "<div class=\"alert alert-warning\">\n",
    "    <b>PRACTICE:</b> Finally, let's create one more function. Suppose a car's yearly payment is \\$5,000 regardless of when it was purchased, and a house's yearly payment is \\$10,000 regardless of when it was purchased. Create <b>one</b> function that finds out how much an individual has paid since purchasing each item.\n",
    "</div>"
   ]
  },
  {
   "cell_type": "code",
   "execution_count": 5,
   "id": "a022869b",
   "metadata": {},
   "outputs": [],
   "source": [
    "def payments(car, house):\n",
    "    return (2022 - car) * 5000 + (2022 - house) * 10000"
   ]
  },
  {
   "cell_type": "code",
   "execution_count": 6,
   "id": "1cc88cf9",
   "metadata": {},
   "outputs": [
    {
     "data": {
      "text/plain": [
       "110000"
      ]
     },
     "execution_count": 6,
     "metadata": {},
     "output_type": "execute_result"
    }
   ],
   "source": [
    "# call the function for an individual who...\n",
    "# purchased a car in 2002 and a house in 2021\n",
    "# what number should you get?\n",
    "payments(2002, 2021)"
   ]
  },
  {
   "cell_type": "code",
   "execution_count": 7,
   "id": "edfb5d79",
   "metadata": {},
   "outputs": [
    {
     "data": {
      "text/html": [
       "<table border=\"1\" class=\"dataframe\">\n",
       "    <thead>\n",
       "        <tr>\n",
       "            <th>Person</th> <th>Birth Year</th> <th>Age</th> <th>Car Purchase</th> <th>House Purchase</th> <th>Payments</th>\n",
       "        </tr>\n",
       "    </thead>\n",
       "    <tbody>\n",
       "        <tr>\n",
       "            <td>Jim    </td> <td>1985      </td> <td>37  </td> <td>2020        </td> <td>2007          </td> <td>160000  </td>\n",
       "        </tr>\n",
       "        <tr>\n",
       "            <td>Pam    </td> <td>1988      </td> <td>34  </td> <td>2005        </td> <td>2013          </td> <td>175000  </td>\n",
       "        </tr>\n",
       "        <tr>\n",
       "            <td>Michael</td> <td>1967      </td> <td>55  </td> <td>2003        </td> <td>1990          </td> <td>415000  </td>\n",
       "        </tr>\n",
       "        <tr>\n",
       "            <td>Creed  </td> <td>1904      </td> <td>118 </td> <td>2019        </td> <td>2021          </td> <td>25000   </td>\n",
       "        </tr>\n",
       "    </tbody>\n",
       "</table>"
      ],
      "text/plain": [
       "Person  | Birth Year | Age  | Car Purchase | House Purchase | Payments\n",
       "Jim     | 1985       | 37   | 2020         | 2007           | 160000\n",
       "Pam     | 1988       | 34   | 2005         | 2013           | 175000\n",
       "Michael | 1967       | 55   | 2003         | 1990           | 415000\n",
       "Creed   | 1904       | 118  | 2019         | 2021           | 25000"
      ]
     },
     "execution_count": 7,
     "metadata": {},
     "output_type": "execute_result"
    }
   ],
   "source": [
    "pay = data_2022.apply(payments, 'Car Purchase', 'House Purchase')\n",
    "data_2022 = data_2022.with_column('Payments', pay)\n",
    "data_2022"
   ]
  },
  {
   "cell_type": "markdown",
   "id": "f672da49",
   "metadata": {},
   "source": [
    "## 2. More Apply Examples with Spotify"
   ]
  },
  {
   "cell_type": "code",
   "execution_count": 8,
   "id": "8ff7ed2d",
   "metadata": {},
   "outputs": [
    {
     "data": {
      "text/html": [
       "<table border=\"1\" class=\"dataframe\">\n",
       "    <thead>\n",
       "        <tr>\n",
       "            <th>track_id</th> <th>track_name</th> <th>track_artist</th> <th>track_popularity</th> <th>track_album_id</th> <th>track_album_name</th> <th>track_album_release_date</th> <th>playlist_name</th> <th>playlist_id</th> <th>playlist_genre</th> <th>playlist_subgenre</th> <th>danceability</th> <th>energy</th> <th>key</th> <th>loudness</th> <th>mode</th> <th>speechiness</th> <th>acousticness</th> <th>instrumentalness</th> <th>liveness</th> <th>valence</th> <th>tempo</th> <th>duration_ms</th> <th>creation_year</th>\n",
       "        </tr>\n",
       "    </thead>\n",
       "    <tbody>\n",
       "        <tr>\n",
       "            <td>6f807x0ima9a1j3VPbc7VN</td> <td>I Don't Care (with Justin Bieber) - Loud Luxury Remix</td> <td>Ed Sheeran      </td> <td>66              </td> <td>2oCs0DGTsRO98Gh5ZSl2Cx</td> <td>I Don't Care (with Justin Bieber) [Loud Luxury Remix]</td> <td>2019-06-14              </td> <td>Pop Remix    </td> <td>37i9dQZF1DXcZDD7cfEKhW</td> <td>pop           </td> <td>dance pop        </td> <td>0.748       </td> <td>0.916 </td> <td>6   </td> <td>-2.634  </td> <td>1   </td> <td>0.0583     </td> <td>0.102       </td> <td>0               </td> <td>0.0653  </td> <td>0.518  </td> <td>122.036</td> <td>194754     </td> <td>2019         </td>\n",
       "        </tr>\n",
       "        <tr>\n",
       "            <td>0r7CVbZTWZgbTCYdfa2P31</td> <td>Memories - Dillon Francis Remix                      </td> <td>Maroon 5        </td> <td>67              </td> <td>63rPSO264uRjW1X5E6cWv6</td> <td>Memories (Dillon Francis Remix)                      </td> <td>2019-12-13              </td> <td>Pop Remix    </td> <td>37i9dQZF1DXcZDD7cfEKhW</td> <td>pop           </td> <td>dance pop        </td> <td>0.726       </td> <td>0.815 </td> <td>11  </td> <td>-4.969  </td> <td>1   </td> <td>0.0373     </td> <td>0.0724      </td> <td>0.00421         </td> <td>0.357   </td> <td>0.693  </td> <td>99.972 </td> <td>162600     </td> <td>2019         </td>\n",
       "        </tr>\n",
       "        <tr>\n",
       "            <td>1z1Hg7Vb0AhHDiEmnDE79l</td> <td>All the Time - Don Diablo Remix                      </td> <td>Zara Larsson    </td> <td>70              </td> <td>1HoSmj2eLcsrR0vE9gThr4</td> <td>All the Time (Don Diablo Remix)                      </td> <td>2019-07-05              </td> <td>Pop Remix    </td> <td>37i9dQZF1DXcZDD7cfEKhW</td> <td>pop           </td> <td>dance pop        </td> <td>0.675       </td> <td>0.931 </td> <td>1   </td> <td>-3.432  </td> <td>0   </td> <td>0.0742     </td> <td>0.0794      </td> <td>2.33e-05        </td> <td>0.11    </td> <td>0.613  </td> <td>124.008</td> <td>176616     </td> <td>2019         </td>\n",
       "        </tr>\n",
       "        <tr>\n",
       "            <td>75FpbthrwQmzHlBJLuGdC7</td> <td>Call You Mine - Keanu Silva Remix                    </td> <td>The Chainsmokers</td> <td>60              </td> <td>1nqYsOef1yKKuGOVchbsk6</td> <td>Call You Mine - The Remixes                          </td> <td>2019-07-19              </td> <td>Pop Remix    </td> <td>37i9dQZF1DXcZDD7cfEKhW</td> <td>pop           </td> <td>dance pop        </td> <td>0.718       </td> <td>0.93  </td> <td>7   </td> <td>-3.778  </td> <td>1   </td> <td>0.102      </td> <td>0.0287      </td> <td>9.43e-06        </td> <td>0.204   </td> <td>0.277  </td> <td>121.956</td> <td>169093     </td> <td>2019         </td>\n",
       "        </tr>\n",
       "        <tr>\n",
       "            <td>1e8PAfcKUYoKkxPhrHqw4x</td> <td>Someone You Loved - Future Humans Remix              </td> <td>Lewis Capaldi   </td> <td>69              </td> <td>7m7vv9wlQ4i0LFuJiE2zsQ</td> <td>Someone You Loved (Future Humans Remix)              </td> <td>2019-03-05              </td> <td>Pop Remix    </td> <td>37i9dQZF1DXcZDD7cfEKhW</td> <td>pop           </td> <td>dance pop        </td> <td>0.65        </td> <td>0.833 </td> <td>1   </td> <td>-4.672  </td> <td>1   </td> <td>0.0359     </td> <td>0.0803      </td> <td>0               </td> <td>0.0833  </td> <td>0.725  </td> <td>123.976</td> <td>189052     </td> <td>2019         </td>\n",
       "        </tr>\n",
       "        <tr>\n",
       "            <td>7fvUMiyapMsRRxr07cU8Ef</td> <td>Beautiful People (feat. Khalid) - Jack Wins Remix    </td> <td>Ed Sheeran      </td> <td>67              </td> <td>2yiy9cd2QktrNvWC2EUi0k</td> <td>Beautiful People (feat. Khalid) [Jack Wins Remix]    </td> <td>2019-07-11              </td> <td>Pop Remix    </td> <td>37i9dQZF1DXcZDD7cfEKhW</td> <td>pop           </td> <td>dance pop        </td> <td>0.675       </td> <td>0.919 </td> <td>8   </td> <td>-5.385  </td> <td>1   </td> <td>0.127      </td> <td>0.0799      </td> <td>0               </td> <td>0.143   </td> <td>0.585  </td> <td>124.982</td> <td>163049     </td> <td>2019         </td>\n",
       "        </tr>\n",
       "        <tr>\n",
       "            <td>2OAylPUDDfwRGfe0lYqlCQ</td> <td>Never Really Over - R3HAB Remix                      </td> <td>Katy Perry      </td> <td>62              </td> <td>7INHYSeusaFlyrHSNxm8qH</td> <td>Never Really Over (R3HAB Remix)                      </td> <td>2019-07-26              </td> <td>Pop Remix    </td> <td>37i9dQZF1DXcZDD7cfEKhW</td> <td>pop           </td> <td>dance pop        </td> <td>0.449       </td> <td>0.856 </td> <td>5   </td> <td>-4.788  </td> <td>0   </td> <td>0.0623     </td> <td>0.187       </td> <td>0               </td> <td>0.176   </td> <td>0.152  </td> <td>112.648</td> <td>187675     </td> <td>2019         </td>\n",
       "        </tr>\n",
       "        <tr>\n",
       "            <td>6b1RNvAcJjQH73eZO4BLAB</td> <td>Post Malone (feat. RANI) - GATTÜSO Remix             </td> <td>Sam Feldt       </td> <td>69              </td> <td>6703SRPsLkS4bPtMFFJes1</td> <td>Post Malone (feat. RANI) [GATTÜSO Remix]             </td> <td>2019-08-29              </td> <td>Pop Remix    </td> <td>37i9dQZF1DXcZDD7cfEKhW</td> <td>pop           </td> <td>dance pop        </td> <td>0.542       </td> <td>0.903 </td> <td>4   </td> <td>-2.419  </td> <td>0   </td> <td>0.0434     </td> <td>0.0335      </td> <td>4.83e-06        </td> <td>0.111   </td> <td>0.367  </td> <td>127.936</td> <td>207619     </td> <td>2019         </td>\n",
       "        </tr>\n",
       "        <tr>\n",
       "            <td>7bF6tCO3gFb8INrEDcjNT5</td> <td>Tough Love - Tiësto Remix / Radio Edit               </td> <td>Avicii          </td> <td>68              </td> <td>7CvAfGvq4RlIwEbT9o8Iav</td> <td>Tough Love (Tiësto Remix)                            </td> <td>2019-06-14              </td> <td>Pop Remix    </td> <td>37i9dQZF1DXcZDD7cfEKhW</td> <td>pop           </td> <td>dance pop        </td> <td>0.594       </td> <td>0.935 </td> <td>8   </td> <td>-3.562  </td> <td>1   </td> <td>0.0565     </td> <td>0.0249      </td> <td>3.97e-06        </td> <td>0.637   </td> <td>0.366  </td> <td>127.015</td> <td>193187     </td> <td>2019         </td>\n",
       "        </tr>\n",
       "        <tr>\n",
       "            <td>1IXGILkPm0tOCNeq00kCPa</td> <td>If I Can't Have You - Gryffin Remix                  </td> <td>Shawn Mendes    </td> <td>67              </td> <td>4QxzbfSsVryEQwvPFEV5Iu</td> <td>If I Can't Have You (Gryffin Remix)                  </td> <td>2019-06-20              </td> <td>Pop Remix    </td> <td>37i9dQZF1DXcZDD7cfEKhW</td> <td>pop           </td> <td>dance pop        </td> <td>0.642       </td> <td>0.818 </td> <td>2   </td> <td>-4.552  </td> <td>1   </td> <td>0.032      </td> <td>0.0567      </td> <td>0               </td> <td>0.0919  </td> <td>0.59   </td> <td>124.957</td> <td>253040     </td> <td>2019         </td>\n",
       "        </tr>\n",
       "    </tbody>\n",
       "</table>\n",
       "<p>... (32823 rows omitted)</p>"
      ],
      "text/plain": [
       "track_id               | track_name                                            | track_artist     | track_popularity | track_album_id         | track_album_name                                      | track_album_release_date | playlist_name | playlist_id            | playlist_genre | playlist_subgenre | danceability | energy | key  | loudness | mode | speechiness | acousticness | instrumentalness | liveness | valence | tempo   | duration_ms | creation_year\n",
       "6f807x0ima9a1j3VPbc7VN | I Don't Care (with Justin Bieber) - Loud Luxury Remix | Ed Sheeran       | 66               | 2oCs0DGTsRO98Gh5ZSl2Cx | I Don't Care (with Justin Bieber) [Loud Luxury Remix] | 2019-06-14               | Pop Remix     | 37i9dQZF1DXcZDD7cfEKhW | pop            | dance pop         | 0.748        | 0.916  | 6    | -2.634   | 1    | 0.0583      | 0.102        | 0                | 0.0653   | 0.518   | 122.036 | 194754      | 2019\n",
       "0r7CVbZTWZgbTCYdfa2P31 | Memories - Dillon Francis Remix                       | Maroon 5         | 67               | 63rPSO264uRjW1X5E6cWv6 | Memories (Dillon Francis Remix)                       | 2019-12-13               | Pop Remix     | 37i9dQZF1DXcZDD7cfEKhW | pop            | dance pop         | 0.726        | 0.815  | 11   | -4.969   | 1    | 0.0373      | 0.0724       | 0.00421          | 0.357    | 0.693   | 99.972  | 162600      | 2019\n",
       "1z1Hg7Vb0AhHDiEmnDE79l | All the Time - Don Diablo Remix                       | Zara Larsson     | 70               | 1HoSmj2eLcsrR0vE9gThr4 | All the Time (Don Diablo Remix)                       | 2019-07-05               | Pop Remix     | 37i9dQZF1DXcZDD7cfEKhW | pop            | dance pop         | 0.675        | 0.931  | 1    | -3.432   | 0    | 0.0742      | 0.0794       | 2.33e-05         | 0.11     | 0.613   | 124.008 | 176616      | 2019\n",
       "75FpbthrwQmzHlBJLuGdC7 | Call You Mine - Keanu Silva Remix                     | The Chainsmokers | 60               | 1nqYsOef1yKKuGOVchbsk6 | Call You Mine - The Remixes                           | 2019-07-19               | Pop Remix     | 37i9dQZF1DXcZDD7cfEKhW | pop            | dance pop         | 0.718        | 0.93   | 7    | -3.778   | 1    | 0.102       | 0.0287       | 9.43e-06         | 0.204    | 0.277   | 121.956 | 169093      | 2019\n",
       "1e8PAfcKUYoKkxPhrHqw4x | Someone You Loved - Future Humans Remix               | Lewis Capaldi    | 69               | 7m7vv9wlQ4i0LFuJiE2zsQ | Someone You Loved (Future Humans Remix)               | 2019-03-05               | Pop Remix     | 37i9dQZF1DXcZDD7cfEKhW | pop            | dance pop         | 0.65         | 0.833  | 1    | -4.672   | 1    | 0.0359      | 0.0803       | 0                | 0.0833   | 0.725   | 123.976 | 189052      | 2019\n",
       "7fvUMiyapMsRRxr07cU8Ef | Beautiful People (feat. Khalid) - Jack Wins Remix     | Ed Sheeran       | 67               | 2yiy9cd2QktrNvWC2EUi0k | Beautiful People (feat. Khalid) [Jack Wins Remix]     | 2019-07-11               | Pop Remix     | 37i9dQZF1DXcZDD7cfEKhW | pop            | dance pop         | 0.675        | 0.919  | 8    | -5.385   | 1    | 0.127       | 0.0799       | 0                | 0.143    | 0.585   | 124.982 | 163049      | 2019\n",
       "2OAylPUDDfwRGfe0lYqlCQ | Never Really Over - R3HAB Remix                       | Katy Perry       | 62               | 7INHYSeusaFlyrHSNxm8qH | Never Really Over (R3HAB Remix)                       | 2019-07-26               | Pop Remix     | 37i9dQZF1DXcZDD7cfEKhW | pop            | dance pop         | 0.449        | 0.856  | 5    | -4.788   | 0    | 0.0623      | 0.187        | 0                | 0.176    | 0.152   | 112.648 | 187675      | 2019\n",
       "6b1RNvAcJjQH73eZO4BLAB | Post Malone (feat. RANI) - GATTÜSO Remix              | Sam Feldt        | 69               | 6703SRPsLkS4bPtMFFJes1 | Post Malone (feat. RANI) [GATTÜSO Remix]              | 2019-08-29               | Pop Remix     | 37i9dQZF1DXcZDD7cfEKhW | pop            | dance pop         | 0.542        | 0.903  | 4    | -2.419   | 0    | 0.0434      | 0.0335       | 4.83e-06         | 0.111    | 0.367   | 127.936 | 207619      | 2019\n",
       "7bF6tCO3gFb8INrEDcjNT5 | Tough Love - Tiësto Remix / Radio Edit                | Avicii           | 68               | 7CvAfGvq4RlIwEbT9o8Iav | Tough Love (Tiësto Remix)                             | 2019-06-14               | Pop Remix     | 37i9dQZF1DXcZDD7cfEKhW | pop            | dance pop         | 0.594        | 0.935  | 8    | -3.562   | 1    | 0.0565      | 0.0249       | 3.97e-06         | 0.637    | 0.366   | 127.015 | 193187      | 2019\n",
       "1IXGILkPm0tOCNeq00kCPa | If I Can't Have You - Gryffin Remix                   | Shawn Mendes     | 67               | 4QxzbfSsVryEQwvPFEV5Iu | If I Can't Have You (Gryffin Remix)                   | 2019-06-20               | Pop Remix     | 37i9dQZF1DXcZDD7cfEKhW | pop            | dance pop         | 0.642        | 0.818  | 2    | -4.552   | 1    | 0.032       | 0.0567       | 0                | 0.0919   | 0.59    | 124.957 | 253040      | 2019\n",
       "... (32823 rows omitted)"
      ]
     },
     "execution_count": 8,
     "metadata": {},
     "output_type": "execute_result"
    }
   ],
   "source": [
    "# Loading the Spotify data\n",
    "spotify = Table.read_table('/home/jovyan/BUDS-SU23/Project/Spotify/data/spotify.csv')\n",
    "spotify"
   ]
  },
  {
   "cell_type": "markdown",
   "id": "45723cd6",
   "metadata": {},
   "source": [
    "## Spotify Column Descriptions"
   ]
  },
  {
   "cell_type": "markdown",
   "id": "614d9851",
   "metadata": {},
   "source": [
    "Here are the descriptions of the columns for your reference. We may not be using all of these fields, but you can still take a look at its description.\n",
    "\n",
    "|Variable Name   | Description |\n",
    "|--------------|------------|\n",
    "|`track_id` | \tSong unique ID |\n",
    "|`track_name` | Song name |\n",
    "|`track_artist\t`| Song artist |\n",
    "|`track_popularity` | Song popularity (0-100), where higher is better |\n",
    "|`track_album_id`| Album unique ID |\n",
    "|`track_album_name` | Song album name |\n",
    "|`track_album_release_date`| Date when album was released |\n",
    "|`playlist_name`| Name of playlist |\n",
    "|`playlist_id`| Playlist ID |\n",
    "|`playlist_genre`| Playlist genre |\n",
    "|`playlist_subgenre\t`|  Playlist subgenre |\n",
    "|`danceability`| Danceability describes how suitable a track is for dancing based on a combination of musical elements including tempo, rhythm stability, beat strength, and overall regularity. A value of 0.0 is least danceable and 1.0 is most danceable. |\n",
    "|`energy`| Energy is a measure from 0.0 to 1.0 and represents a perceptual measure of intensity and activity. Typically, energetic tracks feel fast, loud, and noisy. For example, death metal has high energy, while a Bach prelude scores low on the scale. Perceptual features contributing to this attribute include dynamic range, perceived loudness, timbre, onset rate, and general entropy. |\n",
    "|`key`| The estimated overall key of the track. Integers map to pitches using standard Pitch Class notation (e.g., 0 = C, 1 = C♯/D♭, 2 = D, and so on). If no key was detected, the value is -1. |\n",
    "|`loudness`|  The overall loudness of a track in decibels (dB). Loudness values are averaged across the entire track and are useful for comparing relative loudness of tracks. Loudness is the quality of a sound that is the primary psychological correlate of physical strength (amplitude). Values typical range between -60 dB and 0 dB. |\n",
    "|`mode`|  Mode indicates the modality (major or minor) of a track, the type of scale from which its melodic content is derived. Major is represented by 1 and minor is 0. |\n",
    "|`speechiness`|  Speechiness detects the presence of spoken words in a track. The more exclusively speech-like the recording (e.g., talk show, audio book, poetry), the closer to 1.0 the attribute value. Values above 0.66 describe tracks that are probably made entirely of spoken words. Values between 0.33 and 0.66 describe tracks that may contain both music and speech, either in sections or layered, including such cases as rap music. Values below 0.33 most likely represent music and other non-speech-like tracks. |\n",
    "|`acousticness`|  A confidence measure from 0.0 to 1.0 of whether the track is acoustic. 1.0 represents high confidence the track is acoustic. |\n",
    "|`instrumentalness`| Predicts whether a track contains no vocals. “Ooh” and “aah” sounds are treated as instrumental in this context. Rap or spoken word tracks are clearly “vocal”. The closer the instrumentalness value is to 1.0, the greater likelihood the track contains no vocal content. Values above 0.5 are intended to represent instrumental tracks, but confidence is higher as the value approaches 1.0. |\n",
    "|`liveness`| Detects the presence of an audience in the recording. Higher liveness values represent an increased probability that the track was performed live. A value above 0.8 provides strong likelihood that the track is live. |\n",
    "|`valence`| A measure from 0.0 to 1.0 describing the musical positiveness conveyed by a track. Tracks with high valence sound more positive (e.g., happy, cheerful, euphoric), while tracks with low valence sound more negative (e.g., sad, depressed, angry). |\n",
    "|`tempo`| The overall estimated tempo of a track in beats per minute (BPM). In musical terminology, tempo is the speed or pace of a given piece and derives directly from the average beat duration. |\n",
    "|`duration_ms`| Duration of song in milliseconds |\n",
    "|`creation_year`| Year when album was released |"
   ]
  },
  {
   "cell_type": "code",
   "execution_count": 9,
   "id": "75f4a011",
   "metadata": {},
   "outputs": [
    {
     "data": {
      "text/plain": [
       "array(['2019-06-14', '2019-12-13', '2019-07-05', ..., '2014-04-21',\n",
       "       '2014-01-01', '2014-03-03'], dtype='<U10')"
      ]
     },
     "execution_count": 9,
     "metadata": {},
     "output_type": "execute_result"
    }
   ],
   "source": [
    "# Notice how this column has the type of year-month-day\n",
    "# What if we wish to see particular months?\n",
    "\n",
    "spotify.column(\"track_album_release_date\")"
   ]
  },
  {
   "cell_type": "markdown",
   "id": "b834f85a",
   "metadata": {},
   "source": [
    "## Getting Months "
   ]
  },
  {
   "cell_type": "markdown",
   "id": "095f46ca",
   "metadata": {},
   "source": [
    "`str.split(separator)` Splits the string (str) into a list based on the separator that is passed in"
   ]
  },
  {
   "cell_type": "code",
   "execution_count": 10,
   "id": "309855a5",
   "metadata": {},
   "outputs": [
    {
     "data": {
      "text/plain": [
       "['2019', '06', '14']"
      ]
     },
     "execution_count": 10,
     "metadata": {},
     "output_type": "execute_result"
    }
   ],
   "source": [
    "# This makes a LIST of each string separated by '-' \n",
    "Example = '2019-06-14'.split(\"-\")\n",
    "Example"
   ]
  },
  {
   "cell_type": "code",
   "execution_count": 11,
   "id": "ca9bc5d6",
   "metadata": {},
   "outputs": [
    {
     "data": {
      "text/plain": [
       "'06'"
      ]
     },
     "execution_count": 11,
     "metadata": {},
     "output_type": "execute_result"
    }
   ],
   "source": [
    "# In order to get our desired month number, we index by [1] since it is in the first index\n",
    "Example[1]"
   ]
  },
  {
   "cell_type": "code",
   "execution_count": 12,
   "id": "32af1a90",
   "metadata": {},
   "outputs": [],
   "source": [
    "# Now, lets create a function to get months. Notice how I factored in the possibility if the month is not present.\n",
    "def get_month(date):\n",
    "    split = date.split(\"-\")\n",
    "    if len(split) == 3:\n",
    "        return split[1]\n",
    "    else:\n",
    "        return \"nan\""
   ]
  },
  {
   "cell_type": "code",
   "execution_count": 13,
   "id": "f18b0fbb",
   "metadata": {},
   "outputs": [
    {
     "data": {
      "text/html": [
       "<table border=\"1\" class=\"dataframe\">\n",
       "    <thead>\n",
       "        <tr>\n",
       "            <th>track_id</th> <th>track_name</th> <th>track_artist</th> <th>track_popularity</th> <th>track_album_id</th> <th>track_album_name</th> <th>track_album_release_date</th> <th>playlist_name</th> <th>playlist_id</th> <th>playlist_genre</th> <th>playlist_subgenre</th> <th>danceability</th> <th>energy</th> <th>key</th> <th>loudness</th> <th>mode</th> <th>speechiness</th> <th>acousticness</th> <th>instrumentalness</th> <th>liveness</th> <th>valence</th> <th>tempo</th> <th>duration_ms</th> <th>creation_year</th> <th>creation_month</th>\n",
       "        </tr>\n",
       "    </thead>\n",
       "    <tbody>\n",
       "        <tr>\n",
       "            <td>6f807x0ima9a1j3VPbc7VN</td> <td>I Don't Care (with Justin Bieber) - Loud Luxury Remix</td> <td>Ed Sheeran      </td> <td>66              </td> <td>2oCs0DGTsRO98Gh5ZSl2Cx</td> <td>I Don't Care (with Justin Bieber) [Loud Luxury Remix]</td> <td>2019-06-14              </td> <td>Pop Remix    </td> <td>37i9dQZF1DXcZDD7cfEKhW</td> <td>pop           </td> <td>dance pop        </td> <td>0.748       </td> <td>0.916 </td> <td>6   </td> <td>-2.634  </td> <td>1   </td> <td>0.0583     </td> <td>0.102       </td> <td>0               </td> <td>0.0653  </td> <td>0.518  </td> <td>122.036</td> <td>194754     </td> <td>2019         </td> <td>06            </td>\n",
       "        </tr>\n",
       "        <tr>\n",
       "            <td>0r7CVbZTWZgbTCYdfa2P31</td> <td>Memories - Dillon Francis Remix                      </td> <td>Maroon 5        </td> <td>67              </td> <td>63rPSO264uRjW1X5E6cWv6</td> <td>Memories (Dillon Francis Remix)                      </td> <td>2019-12-13              </td> <td>Pop Remix    </td> <td>37i9dQZF1DXcZDD7cfEKhW</td> <td>pop           </td> <td>dance pop        </td> <td>0.726       </td> <td>0.815 </td> <td>11  </td> <td>-4.969  </td> <td>1   </td> <td>0.0373     </td> <td>0.0724      </td> <td>0.00421         </td> <td>0.357   </td> <td>0.693  </td> <td>99.972 </td> <td>162600     </td> <td>2019         </td> <td>12            </td>\n",
       "        </tr>\n",
       "        <tr>\n",
       "            <td>1z1Hg7Vb0AhHDiEmnDE79l</td> <td>All the Time - Don Diablo Remix                      </td> <td>Zara Larsson    </td> <td>70              </td> <td>1HoSmj2eLcsrR0vE9gThr4</td> <td>All the Time (Don Diablo Remix)                      </td> <td>2019-07-05              </td> <td>Pop Remix    </td> <td>37i9dQZF1DXcZDD7cfEKhW</td> <td>pop           </td> <td>dance pop        </td> <td>0.675       </td> <td>0.931 </td> <td>1   </td> <td>-3.432  </td> <td>0   </td> <td>0.0742     </td> <td>0.0794      </td> <td>2.33e-05        </td> <td>0.11    </td> <td>0.613  </td> <td>124.008</td> <td>176616     </td> <td>2019         </td> <td>07            </td>\n",
       "        </tr>\n",
       "        <tr>\n",
       "            <td>75FpbthrwQmzHlBJLuGdC7</td> <td>Call You Mine - Keanu Silva Remix                    </td> <td>The Chainsmokers</td> <td>60              </td> <td>1nqYsOef1yKKuGOVchbsk6</td> <td>Call You Mine - The Remixes                          </td> <td>2019-07-19              </td> <td>Pop Remix    </td> <td>37i9dQZF1DXcZDD7cfEKhW</td> <td>pop           </td> <td>dance pop        </td> <td>0.718       </td> <td>0.93  </td> <td>7   </td> <td>-3.778  </td> <td>1   </td> <td>0.102      </td> <td>0.0287      </td> <td>9.43e-06        </td> <td>0.204   </td> <td>0.277  </td> <td>121.956</td> <td>169093     </td> <td>2019         </td> <td>07            </td>\n",
       "        </tr>\n",
       "        <tr>\n",
       "            <td>1e8PAfcKUYoKkxPhrHqw4x</td> <td>Someone You Loved - Future Humans Remix              </td> <td>Lewis Capaldi   </td> <td>69              </td> <td>7m7vv9wlQ4i0LFuJiE2zsQ</td> <td>Someone You Loved (Future Humans Remix)              </td> <td>2019-03-05              </td> <td>Pop Remix    </td> <td>37i9dQZF1DXcZDD7cfEKhW</td> <td>pop           </td> <td>dance pop        </td> <td>0.65        </td> <td>0.833 </td> <td>1   </td> <td>-4.672  </td> <td>1   </td> <td>0.0359     </td> <td>0.0803      </td> <td>0               </td> <td>0.0833  </td> <td>0.725  </td> <td>123.976</td> <td>189052     </td> <td>2019         </td> <td>03            </td>\n",
       "        </tr>\n",
       "        <tr>\n",
       "            <td>7fvUMiyapMsRRxr07cU8Ef</td> <td>Beautiful People (feat. Khalid) - Jack Wins Remix    </td> <td>Ed Sheeran      </td> <td>67              </td> <td>2yiy9cd2QktrNvWC2EUi0k</td> <td>Beautiful People (feat. Khalid) [Jack Wins Remix]    </td> <td>2019-07-11              </td> <td>Pop Remix    </td> <td>37i9dQZF1DXcZDD7cfEKhW</td> <td>pop           </td> <td>dance pop        </td> <td>0.675       </td> <td>0.919 </td> <td>8   </td> <td>-5.385  </td> <td>1   </td> <td>0.127      </td> <td>0.0799      </td> <td>0               </td> <td>0.143   </td> <td>0.585  </td> <td>124.982</td> <td>163049     </td> <td>2019         </td> <td>07            </td>\n",
       "        </tr>\n",
       "        <tr>\n",
       "            <td>2OAylPUDDfwRGfe0lYqlCQ</td> <td>Never Really Over - R3HAB Remix                      </td> <td>Katy Perry      </td> <td>62              </td> <td>7INHYSeusaFlyrHSNxm8qH</td> <td>Never Really Over (R3HAB Remix)                      </td> <td>2019-07-26              </td> <td>Pop Remix    </td> <td>37i9dQZF1DXcZDD7cfEKhW</td> <td>pop           </td> <td>dance pop        </td> <td>0.449       </td> <td>0.856 </td> <td>5   </td> <td>-4.788  </td> <td>0   </td> <td>0.0623     </td> <td>0.187       </td> <td>0               </td> <td>0.176   </td> <td>0.152  </td> <td>112.648</td> <td>187675     </td> <td>2019         </td> <td>07            </td>\n",
       "        </tr>\n",
       "        <tr>\n",
       "            <td>6b1RNvAcJjQH73eZO4BLAB</td> <td>Post Malone (feat. RANI) - GATTÜSO Remix             </td> <td>Sam Feldt       </td> <td>69              </td> <td>6703SRPsLkS4bPtMFFJes1</td> <td>Post Malone (feat. RANI) [GATTÜSO Remix]             </td> <td>2019-08-29              </td> <td>Pop Remix    </td> <td>37i9dQZF1DXcZDD7cfEKhW</td> <td>pop           </td> <td>dance pop        </td> <td>0.542       </td> <td>0.903 </td> <td>4   </td> <td>-2.419  </td> <td>0   </td> <td>0.0434     </td> <td>0.0335      </td> <td>4.83e-06        </td> <td>0.111   </td> <td>0.367  </td> <td>127.936</td> <td>207619     </td> <td>2019         </td> <td>08            </td>\n",
       "        </tr>\n",
       "        <tr>\n",
       "            <td>7bF6tCO3gFb8INrEDcjNT5</td> <td>Tough Love - Tiësto Remix / Radio Edit               </td> <td>Avicii          </td> <td>68              </td> <td>7CvAfGvq4RlIwEbT9o8Iav</td> <td>Tough Love (Tiësto Remix)                            </td> <td>2019-06-14              </td> <td>Pop Remix    </td> <td>37i9dQZF1DXcZDD7cfEKhW</td> <td>pop           </td> <td>dance pop        </td> <td>0.594       </td> <td>0.935 </td> <td>8   </td> <td>-3.562  </td> <td>1   </td> <td>0.0565     </td> <td>0.0249      </td> <td>3.97e-06        </td> <td>0.637   </td> <td>0.366  </td> <td>127.015</td> <td>193187     </td> <td>2019         </td> <td>06            </td>\n",
       "        </tr>\n",
       "        <tr>\n",
       "            <td>1IXGILkPm0tOCNeq00kCPa</td> <td>If I Can't Have You - Gryffin Remix                  </td> <td>Shawn Mendes    </td> <td>67              </td> <td>4QxzbfSsVryEQwvPFEV5Iu</td> <td>If I Can't Have You (Gryffin Remix)                  </td> <td>2019-06-20              </td> <td>Pop Remix    </td> <td>37i9dQZF1DXcZDD7cfEKhW</td> <td>pop           </td> <td>dance pop        </td> <td>0.642       </td> <td>0.818 </td> <td>2   </td> <td>-4.552  </td> <td>1   </td> <td>0.032      </td> <td>0.0567      </td> <td>0               </td> <td>0.0919  </td> <td>0.59   </td> <td>124.957</td> <td>253040     </td> <td>2019         </td> <td>06            </td>\n",
       "        </tr>\n",
       "    </tbody>\n",
       "</table>\n",
       "<p>... (32823 rows omitted)</p>"
      ],
      "text/plain": [
       "track_id               | track_name                                            | track_artist     | track_popularity | track_album_id         | track_album_name                                      | track_album_release_date | playlist_name | playlist_id            | playlist_genre | playlist_subgenre | danceability | energy | key  | loudness | mode | speechiness | acousticness | instrumentalness | liveness | valence | tempo   | duration_ms | creation_year | creation_month\n",
       "6f807x0ima9a1j3VPbc7VN | I Don't Care (with Justin Bieber) - Loud Luxury Remix | Ed Sheeran       | 66               | 2oCs0DGTsRO98Gh5ZSl2Cx | I Don't Care (with Justin Bieber) [Loud Luxury Remix] | 2019-06-14               | Pop Remix     | 37i9dQZF1DXcZDD7cfEKhW | pop            | dance pop         | 0.748        | 0.916  | 6    | -2.634   | 1    | 0.0583      | 0.102        | 0                | 0.0653   | 0.518   | 122.036 | 194754      | 2019          | 06\n",
       "0r7CVbZTWZgbTCYdfa2P31 | Memories - Dillon Francis Remix                       | Maroon 5         | 67               | 63rPSO264uRjW1X5E6cWv6 | Memories (Dillon Francis Remix)                       | 2019-12-13               | Pop Remix     | 37i9dQZF1DXcZDD7cfEKhW | pop            | dance pop         | 0.726        | 0.815  | 11   | -4.969   | 1    | 0.0373      | 0.0724       | 0.00421          | 0.357    | 0.693   | 99.972  | 162600      | 2019          | 12\n",
       "1z1Hg7Vb0AhHDiEmnDE79l | All the Time - Don Diablo Remix                       | Zara Larsson     | 70               | 1HoSmj2eLcsrR0vE9gThr4 | All the Time (Don Diablo Remix)                       | 2019-07-05               | Pop Remix     | 37i9dQZF1DXcZDD7cfEKhW | pop            | dance pop         | 0.675        | 0.931  | 1    | -3.432   | 0    | 0.0742      | 0.0794       | 2.33e-05         | 0.11     | 0.613   | 124.008 | 176616      | 2019          | 07\n",
       "75FpbthrwQmzHlBJLuGdC7 | Call You Mine - Keanu Silva Remix                     | The Chainsmokers | 60               | 1nqYsOef1yKKuGOVchbsk6 | Call You Mine - The Remixes                           | 2019-07-19               | Pop Remix     | 37i9dQZF1DXcZDD7cfEKhW | pop            | dance pop         | 0.718        | 0.93   | 7    | -3.778   | 1    | 0.102       | 0.0287       | 9.43e-06         | 0.204    | 0.277   | 121.956 | 169093      | 2019          | 07\n",
       "1e8PAfcKUYoKkxPhrHqw4x | Someone You Loved - Future Humans Remix               | Lewis Capaldi    | 69               | 7m7vv9wlQ4i0LFuJiE2zsQ | Someone You Loved (Future Humans Remix)               | 2019-03-05               | Pop Remix     | 37i9dQZF1DXcZDD7cfEKhW | pop            | dance pop         | 0.65         | 0.833  | 1    | -4.672   | 1    | 0.0359      | 0.0803       | 0                | 0.0833   | 0.725   | 123.976 | 189052      | 2019          | 03\n",
       "7fvUMiyapMsRRxr07cU8Ef | Beautiful People (feat. Khalid) - Jack Wins Remix     | Ed Sheeran       | 67               | 2yiy9cd2QktrNvWC2EUi0k | Beautiful People (feat. Khalid) [Jack Wins Remix]     | 2019-07-11               | Pop Remix     | 37i9dQZF1DXcZDD7cfEKhW | pop            | dance pop         | 0.675        | 0.919  | 8    | -5.385   | 1    | 0.127       | 0.0799       | 0                | 0.143    | 0.585   | 124.982 | 163049      | 2019          | 07\n",
       "2OAylPUDDfwRGfe0lYqlCQ | Never Really Over - R3HAB Remix                       | Katy Perry       | 62               | 7INHYSeusaFlyrHSNxm8qH | Never Really Over (R3HAB Remix)                       | 2019-07-26               | Pop Remix     | 37i9dQZF1DXcZDD7cfEKhW | pop            | dance pop         | 0.449        | 0.856  | 5    | -4.788   | 0    | 0.0623      | 0.187        | 0                | 0.176    | 0.152   | 112.648 | 187675      | 2019          | 07\n",
       "6b1RNvAcJjQH73eZO4BLAB | Post Malone (feat. RANI) - GATTÜSO Remix              | Sam Feldt        | 69               | 6703SRPsLkS4bPtMFFJes1 | Post Malone (feat. RANI) [GATTÜSO Remix]              | 2019-08-29               | Pop Remix     | 37i9dQZF1DXcZDD7cfEKhW | pop            | dance pop         | 0.542        | 0.903  | 4    | -2.419   | 0    | 0.0434      | 0.0335       | 4.83e-06         | 0.111    | 0.367   | 127.936 | 207619      | 2019          | 08\n",
       "7bF6tCO3gFb8INrEDcjNT5 | Tough Love - Tiësto Remix / Radio Edit                | Avicii           | 68               | 7CvAfGvq4RlIwEbT9o8Iav | Tough Love (Tiësto Remix)                             | 2019-06-14               | Pop Remix     | 37i9dQZF1DXcZDD7cfEKhW | pop            | dance pop         | 0.594        | 0.935  | 8    | -3.562   | 1    | 0.0565      | 0.0249       | 3.97e-06         | 0.637    | 0.366   | 127.015 | 193187      | 2019          | 06\n",
       "1IXGILkPm0tOCNeq00kCPa | If I Can't Have You - Gryffin Remix                   | Shawn Mendes     | 67               | 4QxzbfSsVryEQwvPFEV5Iu | If I Can't Have You (Gryffin Remix)                   | 2019-06-20               | Pop Remix     | 37i9dQZF1DXcZDD7cfEKhW | pop            | dance pop         | 0.642        | 0.818  | 2    | -4.552   | 1    | 0.032       | 0.0567       | 0                | 0.0919   | 0.59    | 124.957 | 253040      | 2019          | 06\n",
       "... (32823 rows omitted)"
      ]
     },
     "execution_count": 13,
     "metadata": {},
     "output_type": "execute_result"
    }
   ],
   "source": [
    "months = spotify.apply(get_month, \"track_album_release_date\")\n",
    "spotify = spotify.with_column(\"creation_month\", months)\n",
    "spotify"
   ]
  },
  {
   "cell_type": "code",
   "execution_count": 14,
   "id": "9af54722",
   "metadata": {},
   "outputs": [
    {
     "data": {
      "text/html": [
       "<table border=\"1\" class=\"dataframe\">\n",
       "    <thead>\n",
       "        <tr>\n",
       "            <th>track_id</th> <th>track_name</th> <th>track_artist</th> <th>track_popularity</th> <th>track_album_id</th> <th>track_album_name</th> <th>track_album_release_date</th> <th>playlist_name</th> <th>playlist_id</th> <th>playlist_genre</th> <th>playlist_subgenre</th> <th>danceability</th> <th>energy</th> <th>key</th> <th>loudness</th> <th>mode</th> <th>speechiness</th> <th>acousticness</th> <th>instrumentalness</th> <th>liveness</th> <th>valence</th> <th>tempo</th> <th>duration_ms</th> <th>creation_year</th> <th>creation_month</th>\n",
       "        </tr>\n",
       "    </thead>\n",
       "    <tbody>\n",
       "        <tr>\n",
       "            <td>2QtJA4gbwe1AcanB2p21aP</td> <td>Stay The Night - Featuring Hayley Williams Of Paramore</td> <td>Zedd         </td> <td>61              </td> <td>4xak0izXQHOMV9Wu1mDAAy</td> <td>Clarity (Deluxe)                </td> <td>2012                    </td> <td>Dance Pop     </td> <td>37i9dQZF1DWZQaaqNMbbXa</td> <td>pop           </td> <td>dance pop        </td> <td>0.596       </td> <td>0.738 </td> <td>8   </td> <td>-3.109  </td> <td>1   </td> <td>0.0411     </td> <td>0.109       </td> <td>0               </td> <td>0.0947  </td> <td>0.461  </td> <td>127.961</td> <td>217347     </td> <td>2012         </td> <td>nan           </td>\n",
       "        </tr>\n",
       "        <tr>\n",
       "            <td>77j9HOrxUpWcjwra9jgvio</td> <td>We like to Party! (Six Flags)                         </td> <td>Vengaboys    </td> <td>51              </td> <td>0R44mmTKUE1XCuGVVrPfTZ</td> <td>We like to Party! (The Vengabus)</td> <td>1998                    </td> <td>90s Dance Hits</td> <td>50cXvxgMGrvoUeLhkzCyIO</td> <td>pop           </td> <td>dance pop        </td> <td>0.785       </td> <td>0.905 </td> <td>8   </td> <td>-7.929  </td> <td>1   </td> <td>0.0449     </td> <td>0.00803     </td> <td>0.859           </td> <td>0.046   </td> <td>0.969  </td> <td>136.018</td> <td>224227     </td> <td>1998         </td> <td>nan           </td>\n",
       "        </tr>\n",
       "        <tr>\n",
       "            <td>6rQ9qJPvInEqSzlh89LsPJ</td> <td>Coco Jamboo - Radio Version                           </td> <td>Mr. President</td> <td>18              </td> <td>2t8Bc4qBseswbwOoHGHK8d</td> <td>We See The Same Sun             </td> <td>1996                    </td> <td>90s Dance Hits</td> <td>50cXvxgMGrvoUeLhkzCyIO</td> <td>pop           </td> <td>dance pop        </td> <td>0.832       </td> <td>0.838 </td> <td>1   </td> <td>-5.414  </td> <td>0   </td> <td>0.0421     </td> <td>0.0791      </td> <td>0               </td> <td>0.152   </td> <td>0.965  </td> <td>100.019</td> <td>218733     </td> <td>1996         </td> <td>nan           </td>\n",
       "        </tr>\n",
       "        <tr>\n",
       "            <td>5FgtdSf7I5lClThz2ptWvl</td> <td>Blue (Da Ba Dee)                                      </td> <td>Eiffel 65    </td> <td>16              </td> <td>65DySolRDG1LNSvRXcWQWN</td> <td>Europop                         </td> <td>1999                    </td> <td>90s Dance Hits</td> <td>50cXvxgMGrvoUeLhkzCyIO</td> <td>pop           </td> <td>dance pop        </td> <td>0.822       </td> <td>0.969 </td> <td>7   </td> <td>-11.471 </td> <td>0   </td> <td>0.0582     </td> <td>0.259       </td> <td>0.000162        </td> <td>0.39    </td> <td>0.765  </td> <td>128.007</td> <td>283748     </td> <td>1999         </td> <td>nan           </td>\n",
       "        </tr>\n",
       "        <tr>\n",
       "            <td>2ahnofp2LbBWDXcJbMaSTu</td> <td>What Is Love                                          </td> <td>Haddaway     </td> <td>70              </td> <td>0qTVjeVP70YvQG4GctetOf</td> <td>What is Love - Remix            </td> <td>1993                    </td> <td>90s Dance Hits</td> <td>50cXvxgMGrvoUeLhkzCyIO</td> <td>pop           </td> <td>dance pop        </td> <td>0.683       </td> <td>0.772 </td> <td>7   </td> <td>-7.907  </td> <td>0   </td> <td>0.0311     </td> <td>0.0222      </td> <td>0.0149          </td> <td>0.203   </td> <td>0.737  </td> <td>123.871</td> <td>270373     </td> <td>1993         </td> <td>nan           </td>\n",
       "        </tr>\n",
       "        <tr>\n",
       "            <td>7cG3wfohoNDSp2M8FWrgTg</td> <td>Bailando - Video Edit                                 </td> <td>Paradisio    </td> <td>59              </td> <td>3iJwt0Sq44ZBzR7kNCxf0y</td> <td>Bailando                        </td> <td>1996                    </td> <td>90s Dance Hits</td> <td>50cXvxgMGrvoUeLhkzCyIO</td> <td>pop           </td> <td>dance pop        </td> <td>0.649       </td> <td>0.955 </td> <td>8   </td> <td>-7.817  </td> <td>0   </td> <td>0.0388     </td> <td>0.0941      </td> <td>0.00899         </td> <td>0.108   </td> <td>0.83   </td> <td>132.993</td> <td>229627     </td> <td>1996         </td> <td>nan           </td>\n",
       "        </tr>\n",
       "        <tr>\n",
       "            <td>5dle7lDSqNS2AcFtbvgkud</td> <td>Rhythm Is A Dancer - 12'' Version                     </td> <td>SNAP!        </td> <td>12              </td> <td>5NZ0wQA1HzBSDSyOWEU96k</td> <td>Rhythm Is A Dancer Volume 08    </td> <td>1991                    </td> <td>90s Dance Hits</td> <td>50cXvxgMGrvoUeLhkzCyIO</td> <td>pop           </td> <td>dance pop        </td> <td>0.768       </td> <td>0.874 </td> <td>9   </td> <td>-7.303  </td> <td>0   </td> <td>0.034      </td> <td>0.117       </td> <td>0.0628          </td> <td>0.0842  </td> <td>0.839  </td> <td>124.251</td> <td>316133     </td> <td>1991         </td> <td>nan           </td>\n",
       "        </tr>\n",
       "        <tr>\n",
       "            <td>2goLsvvODILDzeeiT4dAoR</td> <td>Believe                                               </td> <td>Cher         </td> <td>76              </td> <td>0jZfbz0dNfDjPSg0hYJNth</td> <td>Believe                         </td> <td>1998                    </td> <td>90s Dance Hits</td> <td>50cXvxgMGrvoUeLhkzCyIO</td> <td>pop           </td> <td>dance pop        </td> <td>0.652       </td> <td>0.917 </td> <td>6   </td> <td>-6.72   </td> <td>1   </td> <td>0.0548     </td> <td>0.0082      </td> <td>0               </td> <td>0.0509  </td> <td>0.459  </td> <td>132.975</td> <td>239027     </td> <td>1998         </td> <td>nan           </td>\n",
       "        </tr>\n",
       "        <tr>\n",
       "            <td>6YZpyZ4gmK4VQWvN6230A2</td> <td>Will I Ever                                           </td> <td>Alice DJ     </td> <td>49              </td> <td>5oPKlo7IBFXlh12tqDVoAU</td> <td>Who Needs Guitars Anyway?       </td> <td>2000                    </td> <td>90s Dance Hits</td> <td>50cXvxgMGrvoUeLhkzCyIO</td> <td>pop           </td> <td>dance pop        </td> <td>0.651       </td> <td>0.836 </td> <td>2   </td> <td>-7.825  </td> <td>1   </td> <td>0.0309     </td> <td>0.000489    </td> <td>0.794           </td> <td>0.0539  </td> <td>0.628  </td> <td>137.048</td> <td>210147     </td> <td>2000         </td> <td>nan           </td>\n",
       "        </tr>\n",
       "        <tr>\n",
       "            <td>4lDKORchTM8Rd0PFQFXTLX</td> <td>Baby Baby                                             </td> <td>Corona       </td> <td>55              </td> <td>6rrPmmb2lQd5pNRL6HKBZx</td> <td>The Rhythm of the Night         </td> <td>1994                    </td> <td>90s Dance Hits</td> <td>50cXvxgMGrvoUeLhkzCyIO</td> <td>pop           </td> <td>dance pop        </td> <td>0.639       </td> <td>0.869 </td> <td>7   </td> <td>-8.479  </td> <td>1   </td> <td>0.0311     </td> <td>0.00336     </td> <td>0.002           </td> <td>0.0576  </td> <td>0.562  </td> <td>133.033</td> <td>228013     </td> <td>1994         </td> <td>nan           </td>\n",
       "        </tr>\n",
       "    </tbody>\n",
       "</table>\n",
       "<p>... (1876 rows omitted)</p>"
      ],
      "text/plain": [
       "track_id               | track_name                                             | track_artist  | track_popularity | track_album_id         | track_album_name                 | track_album_release_date | playlist_name  | playlist_id            | playlist_genre | playlist_subgenre | danceability | energy | key  | loudness | mode | speechiness | acousticness | instrumentalness | liveness | valence | tempo   | duration_ms | creation_year | creation_month\n",
       "2QtJA4gbwe1AcanB2p21aP | Stay The Night - Featuring Hayley Williams Of Paramore | Zedd          | 61               | 4xak0izXQHOMV9Wu1mDAAy | Clarity (Deluxe)                 | 2012                     | Dance Pop      | 37i9dQZF1DWZQaaqNMbbXa | pop            | dance pop         | 0.596        | 0.738  | 8    | -3.109   | 1    | 0.0411      | 0.109        | 0                | 0.0947   | 0.461   | 127.961 | 217347      | 2012          | nan\n",
       "77j9HOrxUpWcjwra9jgvio | We like to Party! (Six Flags)                          | Vengaboys     | 51               | 0R44mmTKUE1XCuGVVrPfTZ | We like to Party! (The Vengabus) | 1998                     | 90s Dance Hits | 50cXvxgMGrvoUeLhkzCyIO | pop            | dance pop         | 0.785        | 0.905  | 8    | -7.929   | 1    | 0.0449      | 0.00803      | 0.859            | 0.046    | 0.969   | 136.018 | 224227      | 1998          | nan\n",
       "6rQ9qJPvInEqSzlh89LsPJ | Coco Jamboo - Radio Version                            | Mr. President | 18               | 2t8Bc4qBseswbwOoHGHK8d | We See The Same Sun              | 1996                     | 90s Dance Hits | 50cXvxgMGrvoUeLhkzCyIO | pop            | dance pop         | 0.832        | 0.838  | 1    | -5.414   | 0    | 0.0421      | 0.0791       | 0                | 0.152    | 0.965   | 100.019 | 218733      | 1996          | nan\n",
       "5FgtdSf7I5lClThz2ptWvl | Blue (Da Ba Dee)                                       | Eiffel 65     | 16               | 65DySolRDG1LNSvRXcWQWN | Europop                          | 1999                     | 90s Dance Hits | 50cXvxgMGrvoUeLhkzCyIO | pop            | dance pop         | 0.822        | 0.969  | 7    | -11.471  | 0    | 0.0582      | 0.259        | 0.000162         | 0.39     | 0.765   | 128.007 | 283748      | 1999          | nan\n",
       "2ahnofp2LbBWDXcJbMaSTu | What Is Love                                           | Haddaway      | 70               | 0qTVjeVP70YvQG4GctetOf | What is Love - Remix             | 1993                     | 90s Dance Hits | 50cXvxgMGrvoUeLhkzCyIO | pop            | dance pop         | 0.683        | 0.772  | 7    | -7.907   | 0    | 0.0311      | 0.0222       | 0.0149           | 0.203    | 0.737   | 123.871 | 270373      | 1993          | nan\n",
       "7cG3wfohoNDSp2M8FWrgTg | Bailando - Video Edit                                  | Paradisio     | 59               | 3iJwt0Sq44ZBzR7kNCxf0y | Bailando                         | 1996                     | 90s Dance Hits | 50cXvxgMGrvoUeLhkzCyIO | pop            | dance pop         | 0.649        | 0.955  | 8    | -7.817   | 0    | 0.0388      | 0.0941       | 0.00899          | 0.108    | 0.83    | 132.993 | 229627      | 1996          | nan\n",
       "5dle7lDSqNS2AcFtbvgkud | Rhythm Is A Dancer - 12'' Version                      | SNAP!         | 12               | 5NZ0wQA1HzBSDSyOWEU96k | Rhythm Is A Dancer Volume 08     | 1991                     | 90s Dance Hits | 50cXvxgMGrvoUeLhkzCyIO | pop            | dance pop         | 0.768        | 0.874  | 9    | -7.303   | 0    | 0.034       | 0.117        | 0.0628           | 0.0842   | 0.839   | 124.251 | 316133      | 1991          | nan\n",
       "2goLsvvODILDzeeiT4dAoR | Believe                                                | Cher          | 76               | 0jZfbz0dNfDjPSg0hYJNth | Believe                          | 1998                     | 90s Dance Hits | 50cXvxgMGrvoUeLhkzCyIO | pop            | dance pop         | 0.652        | 0.917  | 6    | -6.72    | 1    | 0.0548      | 0.0082       | 0                | 0.0509   | 0.459   | 132.975 | 239027      | 1998          | nan\n",
       "6YZpyZ4gmK4VQWvN6230A2 | Will I Ever                                            | Alice DJ      | 49               | 5oPKlo7IBFXlh12tqDVoAU | Who Needs Guitars Anyway?        | 2000                     | 90s Dance Hits | 50cXvxgMGrvoUeLhkzCyIO | pop            | dance pop         | 0.651        | 0.836  | 2    | -7.825   | 1    | 0.0309      | 0.000489     | 0.794            | 0.0539   | 0.628   | 137.048 | 210147      | 2000          | nan\n",
       "4lDKORchTM8Rd0PFQFXTLX | Baby Baby                                              | Corona        | 55               | 6rrPmmb2lQd5pNRL6HKBZx | The Rhythm of the Night          | 1994                     | 90s Dance Hits | 50cXvxgMGrvoUeLhkzCyIO | pop            | dance pop         | 0.639        | 0.869  | 7    | -8.479   | 1    | 0.0311      | 0.00336      | 0.002            | 0.0576   | 0.562   | 133.033 | 228013      | 1994          | nan\n",
       "... (1876 rows omitted)"
      ]
     },
     "execution_count": 14,
     "metadata": {},
     "output_type": "execute_result"
    }
   ],
   "source": [
    "# We are now looking at reason why we have some nan values for months. This is because the month isn't present.\n",
    "spotify.where(\"creation_month\", \"nan\")"
   ]
  },
  {
   "cell_type": "code",
   "execution_count": 17,
   "id": "e094ab01",
   "metadata": {},
   "outputs": [
    {
     "data": {
      "text/html": [
       "<table border=\"1\" class=\"dataframe\">\n",
       "    <thead>\n",
       "        <tr>\n",
       "            <th>creation_month</th> <th>count</th>\n",
       "        </tr>\n",
       "    </thead>\n",
       "    <tbody>\n",
       "        <tr>\n",
       "            <td>01            </td> <td>5092 </td>\n",
       "        </tr>\n",
       "        <tr>\n",
       "            <td>02            </td> <td>1613 </td>\n",
       "        </tr>\n",
       "        <tr>\n",
       "            <td>03            </td> <td>2011 </td>\n",
       "        </tr>\n",
       "        <tr>\n",
       "            <td>04            </td> <td>1900 </td>\n",
       "        </tr>\n",
       "        <tr>\n",
       "            <td>05            </td> <td>2213 </td>\n",
       "        </tr>\n",
       "        <tr>\n",
       "            <td>06            </td> <td>2390 </td>\n",
       "        </tr>\n",
       "        <tr>\n",
       "            <td>07            </td> <td>2009 </td>\n",
       "        </tr>\n",
       "        <tr>\n",
       "            <td>08            </td> <td>2298 </td>\n",
       "        </tr>\n",
       "        <tr>\n",
       "            <td>09            </td> <td>2532 </td>\n",
       "        </tr>\n",
       "        <tr>\n",
       "            <td>10            </td> <td>3086 </td>\n",
       "        </tr>\n",
       "        <tr>\n",
       "            <td>11            </td> <td>3359 </td>\n",
       "        </tr>\n",
       "        <tr>\n",
       "            <td>12            </td> <td>2444 </td>\n",
       "        </tr>\n",
       "        <tr>\n",
       "            <td>nan           </td> <td>1886 </td>\n",
       "        </tr>\n",
       "    </tbody>\n",
       "</table>"
      ],
      "text/plain": [
       "<IPython.core.display.HTML object>"
      ]
     },
     "metadata": {},
     "output_type": "display_data"
    }
   ],
   "source": [
    "# Now, we can use this data by filtering by months\n",
    "spotify.group(\"creation_month\").show()"
   ]
  },
  {
   "cell_type": "markdown",
   "id": "4173c0d4",
   "metadata": {},
   "source": [
    "# Notice how January and November have the most songs documented."
   ]
  },
  {
   "cell_type": "markdown",
   "id": "b77dbb94",
   "metadata": {},
   "source": [
    "## Changing Month Number to Month Name"
   ]
  },
  {
   "cell_type": "code",
   "execution_count": 18,
   "id": "be245c1e",
   "metadata": {},
   "outputs": [],
   "source": [
    "def month_num_to_name(number):\n",
    "    if number == \"01\":\n",
    "        return \"January\"\n",
    "    elif number == \"02\":\n",
    "        return \"February\"\n",
    "    elif number == \"03\":\n",
    "        return \"March\"\n",
    "    elif number == \"04\":\n",
    "        return \"April\"\n",
    "    elif number == \"05\":\n",
    "        return \"May\"\n",
    "    elif number == \"06\":\n",
    "        return \"June\"\n",
    "    elif number == \"07\":\n",
    "        return \"July\"\n",
    "    elif number == \"08\":\n",
    "        return \"August\"\n",
    "    elif number == \"09\":\n",
    "        return \"Semptember\"\n",
    "    elif number == \"10\":\n",
    "        return \"October\"\n",
    "    elif number == \"11\":\n",
    "        return \"November\"\n",
    "    elif number == \"12\":\n",
    "        return \"December\"\n",
    "    else:\n",
    "        return \"nan\""
   ]
  },
  {
   "cell_type": "code",
   "execution_count": 19,
   "id": "8bad85e3",
   "metadata": {},
   "outputs": [
    {
     "data": {
      "text/html": [
       "<table border=\"1\" class=\"dataframe\">\n",
       "    <thead>\n",
       "        <tr>\n",
       "            <th>track_id</th> <th>track_name</th> <th>track_artist</th> <th>track_popularity</th> <th>track_album_id</th> <th>track_album_name</th> <th>track_album_release_date</th> <th>playlist_name</th> <th>playlist_id</th> <th>playlist_genre</th> <th>playlist_subgenre</th> <th>danceability</th> <th>energy</th> <th>key</th> <th>loudness</th> <th>mode</th> <th>speechiness</th> <th>acousticness</th> <th>instrumentalness</th> <th>liveness</th> <th>valence</th> <th>tempo</th> <th>duration_ms</th> <th>creation_year</th> <th>creation_month</th> <th>Month Name</th>\n",
       "        </tr>\n",
       "    </thead>\n",
       "    <tbody>\n",
       "        <tr>\n",
       "            <td>6f807x0ima9a1j3VPbc7VN</td> <td>I Don't Care (with Justin Bieber) - Loud Luxury Remix</td> <td>Ed Sheeran      </td> <td>66              </td> <td>2oCs0DGTsRO98Gh5ZSl2Cx</td> <td>I Don't Care (with Justin Bieber) [Loud Luxury Remix]</td> <td>2019-06-14              </td> <td>Pop Remix    </td> <td>37i9dQZF1DXcZDD7cfEKhW</td> <td>pop           </td> <td>dance pop        </td> <td>0.748       </td> <td>0.916 </td> <td>6   </td> <td>-2.634  </td> <td>1   </td> <td>0.0583     </td> <td>0.102       </td> <td>0               </td> <td>0.0653  </td> <td>0.518  </td> <td>122.036</td> <td>194754     </td> <td>2019         </td> <td>06            </td> <td>June      </td>\n",
       "        </tr>\n",
       "        <tr>\n",
       "            <td>0r7CVbZTWZgbTCYdfa2P31</td> <td>Memories - Dillon Francis Remix                      </td> <td>Maroon 5        </td> <td>67              </td> <td>63rPSO264uRjW1X5E6cWv6</td> <td>Memories (Dillon Francis Remix)                      </td> <td>2019-12-13              </td> <td>Pop Remix    </td> <td>37i9dQZF1DXcZDD7cfEKhW</td> <td>pop           </td> <td>dance pop        </td> <td>0.726       </td> <td>0.815 </td> <td>11  </td> <td>-4.969  </td> <td>1   </td> <td>0.0373     </td> <td>0.0724      </td> <td>0.00421         </td> <td>0.357   </td> <td>0.693  </td> <td>99.972 </td> <td>162600     </td> <td>2019         </td> <td>12            </td> <td>December  </td>\n",
       "        </tr>\n",
       "        <tr>\n",
       "            <td>1z1Hg7Vb0AhHDiEmnDE79l</td> <td>All the Time - Don Diablo Remix                      </td> <td>Zara Larsson    </td> <td>70              </td> <td>1HoSmj2eLcsrR0vE9gThr4</td> <td>All the Time (Don Diablo Remix)                      </td> <td>2019-07-05              </td> <td>Pop Remix    </td> <td>37i9dQZF1DXcZDD7cfEKhW</td> <td>pop           </td> <td>dance pop        </td> <td>0.675       </td> <td>0.931 </td> <td>1   </td> <td>-3.432  </td> <td>0   </td> <td>0.0742     </td> <td>0.0794      </td> <td>2.33e-05        </td> <td>0.11    </td> <td>0.613  </td> <td>124.008</td> <td>176616     </td> <td>2019         </td> <td>07            </td> <td>July      </td>\n",
       "        </tr>\n",
       "        <tr>\n",
       "            <td>75FpbthrwQmzHlBJLuGdC7</td> <td>Call You Mine - Keanu Silva Remix                    </td> <td>The Chainsmokers</td> <td>60              </td> <td>1nqYsOef1yKKuGOVchbsk6</td> <td>Call You Mine - The Remixes                          </td> <td>2019-07-19              </td> <td>Pop Remix    </td> <td>37i9dQZF1DXcZDD7cfEKhW</td> <td>pop           </td> <td>dance pop        </td> <td>0.718       </td> <td>0.93  </td> <td>7   </td> <td>-3.778  </td> <td>1   </td> <td>0.102      </td> <td>0.0287      </td> <td>9.43e-06        </td> <td>0.204   </td> <td>0.277  </td> <td>121.956</td> <td>169093     </td> <td>2019         </td> <td>07            </td> <td>July      </td>\n",
       "        </tr>\n",
       "        <tr>\n",
       "            <td>1e8PAfcKUYoKkxPhrHqw4x</td> <td>Someone You Loved - Future Humans Remix              </td> <td>Lewis Capaldi   </td> <td>69              </td> <td>7m7vv9wlQ4i0LFuJiE2zsQ</td> <td>Someone You Loved (Future Humans Remix)              </td> <td>2019-03-05              </td> <td>Pop Remix    </td> <td>37i9dQZF1DXcZDD7cfEKhW</td> <td>pop           </td> <td>dance pop        </td> <td>0.65        </td> <td>0.833 </td> <td>1   </td> <td>-4.672  </td> <td>1   </td> <td>0.0359     </td> <td>0.0803      </td> <td>0               </td> <td>0.0833  </td> <td>0.725  </td> <td>123.976</td> <td>189052     </td> <td>2019         </td> <td>03            </td> <td>March     </td>\n",
       "        </tr>\n",
       "        <tr>\n",
       "            <td>7fvUMiyapMsRRxr07cU8Ef</td> <td>Beautiful People (feat. Khalid) - Jack Wins Remix    </td> <td>Ed Sheeran      </td> <td>67              </td> <td>2yiy9cd2QktrNvWC2EUi0k</td> <td>Beautiful People (feat. Khalid) [Jack Wins Remix]    </td> <td>2019-07-11              </td> <td>Pop Remix    </td> <td>37i9dQZF1DXcZDD7cfEKhW</td> <td>pop           </td> <td>dance pop        </td> <td>0.675       </td> <td>0.919 </td> <td>8   </td> <td>-5.385  </td> <td>1   </td> <td>0.127      </td> <td>0.0799      </td> <td>0               </td> <td>0.143   </td> <td>0.585  </td> <td>124.982</td> <td>163049     </td> <td>2019         </td> <td>07            </td> <td>July      </td>\n",
       "        </tr>\n",
       "        <tr>\n",
       "            <td>2OAylPUDDfwRGfe0lYqlCQ</td> <td>Never Really Over - R3HAB Remix                      </td> <td>Katy Perry      </td> <td>62              </td> <td>7INHYSeusaFlyrHSNxm8qH</td> <td>Never Really Over (R3HAB Remix)                      </td> <td>2019-07-26              </td> <td>Pop Remix    </td> <td>37i9dQZF1DXcZDD7cfEKhW</td> <td>pop           </td> <td>dance pop        </td> <td>0.449       </td> <td>0.856 </td> <td>5   </td> <td>-4.788  </td> <td>0   </td> <td>0.0623     </td> <td>0.187       </td> <td>0               </td> <td>0.176   </td> <td>0.152  </td> <td>112.648</td> <td>187675     </td> <td>2019         </td> <td>07            </td> <td>July      </td>\n",
       "        </tr>\n",
       "        <tr>\n",
       "            <td>6b1RNvAcJjQH73eZO4BLAB</td> <td>Post Malone (feat. RANI) - GATTÜSO Remix             </td> <td>Sam Feldt       </td> <td>69              </td> <td>6703SRPsLkS4bPtMFFJes1</td> <td>Post Malone (feat. RANI) [GATTÜSO Remix]             </td> <td>2019-08-29              </td> <td>Pop Remix    </td> <td>37i9dQZF1DXcZDD7cfEKhW</td> <td>pop           </td> <td>dance pop        </td> <td>0.542       </td> <td>0.903 </td> <td>4   </td> <td>-2.419  </td> <td>0   </td> <td>0.0434     </td> <td>0.0335      </td> <td>4.83e-06        </td> <td>0.111   </td> <td>0.367  </td> <td>127.936</td> <td>207619     </td> <td>2019         </td> <td>08            </td> <td>August    </td>\n",
       "        </tr>\n",
       "        <tr>\n",
       "            <td>7bF6tCO3gFb8INrEDcjNT5</td> <td>Tough Love - Tiësto Remix / Radio Edit               </td> <td>Avicii          </td> <td>68              </td> <td>7CvAfGvq4RlIwEbT9o8Iav</td> <td>Tough Love (Tiësto Remix)                            </td> <td>2019-06-14              </td> <td>Pop Remix    </td> <td>37i9dQZF1DXcZDD7cfEKhW</td> <td>pop           </td> <td>dance pop        </td> <td>0.594       </td> <td>0.935 </td> <td>8   </td> <td>-3.562  </td> <td>1   </td> <td>0.0565     </td> <td>0.0249      </td> <td>3.97e-06        </td> <td>0.637   </td> <td>0.366  </td> <td>127.015</td> <td>193187     </td> <td>2019         </td> <td>06            </td> <td>June      </td>\n",
       "        </tr>\n",
       "        <tr>\n",
       "            <td>1IXGILkPm0tOCNeq00kCPa</td> <td>If I Can't Have You - Gryffin Remix                  </td> <td>Shawn Mendes    </td> <td>67              </td> <td>4QxzbfSsVryEQwvPFEV5Iu</td> <td>If I Can't Have You (Gryffin Remix)                  </td> <td>2019-06-20              </td> <td>Pop Remix    </td> <td>37i9dQZF1DXcZDD7cfEKhW</td> <td>pop           </td> <td>dance pop        </td> <td>0.642       </td> <td>0.818 </td> <td>2   </td> <td>-4.552  </td> <td>1   </td> <td>0.032      </td> <td>0.0567      </td> <td>0               </td> <td>0.0919  </td> <td>0.59   </td> <td>124.957</td> <td>253040     </td> <td>2019         </td> <td>06            </td> <td>June      </td>\n",
       "        </tr>\n",
       "    </tbody>\n",
       "</table>\n",
       "<p>... (32823 rows omitted)</p>"
      ],
      "text/plain": [
       "track_id               | track_name                                            | track_artist     | track_popularity | track_album_id         | track_album_name                                      | track_album_release_date | playlist_name | playlist_id            | playlist_genre | playlist_subgenre | danceability | energy | key  | loudness | mode | speechiness | acousticness | instrumentalness | liveness | valence | tempo   | duration_ms | creation_year | creation_month | Month Name\n",
       "6f807x0ima9a1j3VPbc7VN | I Don't Care (with Justin Bieber) - Loud Luxury Remix | Ed Sheeran       | 66               | 2oCs0DGTsRO98Gh5ZSl2Cx | I Don't Care (with Justin Bieber) [Loud Luxury Remix] | 2019-06-14               | Pop Remix     | 37i9dQZF1DXcZDD7cfEKhW | pop            | dance pop         | 0.748        | 0.916  | 6    | -2.634   | 1    | 0.0583      | 0.102        | 0                | 0.0653   | 0.518   | 122.036 | 194754      | 2019          | 06             | June\n",
       "0r7CVbZTWZgbTCYdfa2P31 | Memories - Dillon Francis Remix                       | Maroon 5         | 67               | 63rPSO264uRjW1X5E6cWv6 | Memories (Dillon Francis Remix)                       | 2019-12-13               | Pop Remix     | 37i9dQZF1DXcZDD7cfEKhW | pop            | dance pop         | 0.726        | 0.815  | 11   | -4.969   | 1    | 0.0373      | 0.0724       | 0.00421          | 0.357    | 0.693   | 99.972  | 162600      | 2019          | 12             | December\n",
       "1z1Hg7Vb0AhHDiEmnDE79l | All the Time - Don Diablo Remix                       | Zara Larsson     | 70               | 1HoSmj2eLcsrR0vE9gThr4 | All the Time (Don Diablo Remix)                       | 2019-07-05               | Pop Remix     | 37i9dQZF1DXcZDD7cfEKhW | pop            | dance pop         | 0.675        | 0.931  | 1    | -3.432   | 0    | 0.0742      | 0.0794       | 2.33e-05         | 0.11     | 0.613   | 124.008 | 176616      | 2019          | 07             | July\n",
       "75FpbthrwQmzHlBJLuGdC7 | Call You Mine - Keanu Silva Remix                     | The Chainsmokers | 60               | 1nqYsOef1yKKuGOVchbsk6 | Call You Mine - The Remixes                           | 2019-07-19               | Pop Remix     | 37i9dQZF1DXcZDD7cfEKhW | pop            | dance pop         | 0.718        | 0.93   | 7    | -3.778   | 1    | 0.102       | 0.0287       | 9.43e-06         | 0.204    | 0.277   | 121.956 | 169093      | 2019          | 07             | July\n",
       "1e8PAfcKUYoKkxPhrHqw4x | Someone You Loved - Future Humans Remix               | Lewis Capaldi    | 69               | 7m7vv9wlQ4i0LFuJiE2zsQ | Someone You Loved (Future Humans Remix)               | 2019-03-05               | Pop Remix     | 37i9dQZF1DXcZDD7cfEKhW | pop            | dance pop         | 0.65         | 0.833  | 1    | -4.672   | 1    | 0.0359      | 0.0803       | 0                | 0.0833   | 0.725   | 123.976 | 189052      | 2019          | 03             | March\n",
       "7fvUMiyapMsRRxr07cU8Ef | Beautiful People (feat. Khalid) - Jack Wins Remix     | Ed Sheeran       | 67               | 2yiy9cd2QktrNvWC2EUi0k | Beautiful People (feat. Khalid) [Jack Wins Remix]     | 2019-07-11               | Pop Remix     | 37i9dQZF1DXcZDD7cfEKhW | pop            | dance pop         | 0.675        | 0.919  | 8    | -5.385   | 1    | 0.127       | 0.0799       | 0                | 0.143    | 0.585   | 124.982 | 163049      | 2019          | 07             | July\n",
       "2OAylPUDDfwRGfe0lYqlCQ | Never Really Over - R3HAB Remix                       | Katy Perry       | 62               | 7INHYSeusaFlyrHSNxm8qH | Never Really Over (R3HAB Remix)                       | 2019-07-26               | Pop Remix     | 37i9dQZF1DXcZDD7cfEKhW | pop            | dance pop         | 0.449        | 0.856  | 5    | -4.788   | 0    | 0.0623      | 0.187        | 0                | 0.176    | 0.152   | 112.648 | 187675      | 2019          | 07             | July\n",
       "6b1RNvAcJjQH73eZO4BLAB | Post Malone (feat. RANI) - GATTÜSO Remix              | Sam Feldt        | 69               | 6703SRPsLkS4bPtMFFJes1 | Post Malone (feat. RANI) [GATTÜSO Remix]              | 2019-08-29               | Pop Remix     | 37i9dQZF1DXcZDD7cfEKhW | pop            | dance pop         | 0.542        | 0.903  | 4    | -2.419   | 0    | 0.0434      | 0.0335       | 4.83e-06         | 0.111    | 0.367   | 127.936 | 207619      | 2019          | 08             | August\n",
       "7bF6tCO3gFb8INrEDcjNT5 | Tough Love - Tiësto Remix / Radio Edit                | Avicii           | 68               | 7CvAfGvq4RlIwEbT9o8Iav | Tough Love (Tiësto Remix)                             | 2019-06-14               | Pop Remix     | 37i9dQZF1DXcZDD7cfEKhW | pop            | dance pop         | 0.594        | 0.935  | 8    | -3.562   | 1    | 0.0565      | 0.0249       | 3.97e-06         | 0.637    | 0.366   | 127.015 | 193187      | 2019          | 06             | June\n",
       "1IXGILkPm0tOCNeq00kCPa | If I Can't Have You - Gryffin Remix                   | Shawn Mendes     | 67               | 4QxzbfSsVryEQwvPFEV5Iu | If I Can't Have You (Gryffin Remix)                   | 2019-06-20               | Pop Remix     | 37i9dQZF1DXcZDD7cfEKhW | pop            | dance pop         | 0.642        | 0.818  | 2    | -4.552   | 1    | 0.032       | 0.0567       | 0                | 0.0919   | 0.59    | 124.957 | 253040      | 2019          | 06             | June\n",
       "... (32823 rows omitted)"
      ]
     },
     "execution_count": 19,
     "metadata": {},
     "output_type": "execute_result"
    }
   ],
   "source": [
    "spotify = spotify.with_column(\"Month Name\", spotify.apply(month_num_to_name, \"creation_month\"))\n",
    "spotify"
   ]
  },
  {
   "cell_type": "code",
   "execution_count": 20,
   "id": "f409e774",
   "metadata": {},
   "outputs": [
    {
     "data": {
      "text/html": [
       "<table border=\"1\" class=\"dataframe\">\n",
       "    <thead>\n",
       "        <tr>\n",
       "            <th>Month Name</th> <th>count</th>\n",
       "        </tr>\n",
       "    </thead>\n",
       "    <tbody>\n",
       "        <tr>\n",
       "            <td>April     </td> <td>1900 </td>\n",
       "        </tr>\n",
       "        <tr>\n",
       "            <td>August    </td> <td>2298 </td>\n",
       "        </tr>\n",
       "        <tr>\n",
       "            <td>December  </td> <td>2444 </td>\n",
       "        </tr>\n",
       "        <tr>\n",
       "            <td>February  </td> <td>1613 </td>\n",
       "        </tr>\n",
       "        <tr>\n",
       "            <td>January   </td> <td>5092 </td>\n",
       "        </tr>\n",
       "        <tr>\n",
       "            <td>July      </td> <td>2009 </td>\n",
       "        </tr>\n",
       "        <tr>\n",
       "            <td>June      </td> <td>2390 </td>\n",
       "        </tr>\n",
       "        <tr>\n",
       "            <td>March     </td> <td>2011 </td>\n",
       "        </tr>\n",
       "        <tr>\n",
       "            <td>May       </td> <td>2213 </td>\n",
       "        </tr>\n",
       "        <tr>\n",
       "            <td>November  </td> <td>3359 </td>\n",
       "        </tr>\n",
       "        <tr>\n",
       "            <td>October   </td> <td>3086 </td>\n",
       "        </tr>\n",
       "        <tr>\n",
       "            <td>Semptember</td> <td>2532 </td>\n",
       "        </tr>\n",
       "        <tr>\n",
       "            <td>nan       </td> <td>1886 </td>\n",
       "        </tr>\n",
       "    </tbody>\n",
       "</table>"
      ],
      "text/plain": [
       "<IPython.core.display.HTML object>"
      ]
     },
     "metadata": {},
     "output_type": "display_data"
    }
   ],
   "source": [
    "# The table isn't ordered, how can we fix this?\n",
    "spotify.group(\"Month Name\").show()"
   ]
  },
  {
   "cell_type": "code",
   "execution_count": 21,
   "id": "22679b08",
   "metadata": {},
   "outputs": [
    {
     "data": {
      "text/html": [
       "<table border=\"1\" class=\"dataframe\">\n",
       "    <thead>\n",
       "        <tr>\n",
       "            <th>Month Name</th> <th>count</th>\n",
       "        </tr>\n",
       "    </thead>\n",
       "    <tbody>\n",
       "        <tr>\n",
       "            <td>January   </td> <td>5092 </td>\n",
       "        </tr>\n",
       "        <tr>\n",
       "            <td>February  </td> <td>1613 </td>\n",
       "        </tr>\n",
       "        <tr>\n",
       "            <td>March     </td> <td>2011 </td>\n",
       "        </tr>\n",
       "        <tr>\n",
       "            <td>April     </td> <td>1900 </td>\n",
       "        </tr>\n",
       "        <tr>\n",
       "            <td>May       </td> <td>2213 </td>\n",
       "        </tr>\n",
       "        <tr>\n",
       "            <td>June      </td> <td>2390 </td>\n",
       "        </tr>\n",
       "        <tr>\n",
       "            <td>July      </td> <td>2009 </td>\n",
       "        </tr>\n",
       "        <tr>\n",
       "            <td>August    </td> <td>2298 </td>\n",
       "        </tr>\n",
       "        <tr>\n",
       "            <td>Semptember</td> <td>2532 </td>\n",
       "        </tr>\n",
       "        <tr>\n",
       "            <td>October   </td> <td>3086 </td>\n",
       "        </tr>\n",
       "        <tr>\n",
       "            <td>November  </td> <td>3359 </td>\n",
       "        </tr>\n",
       "        <tr>\n",
       "            <td>December  </td> <td>2444 </td>\n",
       "        </tr>\n",
       "        <tr>\n",
       "            <td>nan       </td> <td>1886 </td>\n",
       "        </tr>\n",
       "    </tbody>\n",
       "</table>"
      ],
      "text/plain": [
       "<IPython.core.display.HTML object>"
      ]
     },
     "metadata": {},
     "output_type": "display_data"
    }
   ],
   "source": [
    "# Reordering the months\n",
    "spotify.group(\"Month Name\").take(make_array(4, 3, 7, 0, 8, 6, 5, 1, 11, 10, 9, 2, 12)).show()"
   ]
  },
  {
   "cell_type": "code",
   "execution_count": 22,
   "id": "370f8cfe",
   "metadata": {},
   "outputs": [
    {
     "data": {
      "image/png": "[encoded data removed]",
      "text/plain": [
       "<Figure size 600x650 with 1 Axes>"
      ]
     },
     "metadata": {},
     "output_type": "display_data"
    }
   ],
   "source": [
    "# We can make a neat bar chart based on months and their counts\n",
    "spotify.group(\"Month Name\").take(make_array(4, 3, 7, 0, 8, 6, 5, 1, 11, 10, 9, 2, 12)).barh(\"Month Name\", \"count\")"
   ]
  },
  {
   "cell_type": "markdown",
   "id": "1eb099bb",
   "metadata": {},
   "source": [
    "## Live Lecture Questions\n"
   ]
  },
  {
   "cell_type": "markdown",
   "id": "cf51490e",
   "metadata": {},
   "source": []
  }
 ],
 "metadata": {
  "kernelspec": {
   "display_name": "Python 3 (ipykernel)",
   "language": "python",
   "name": "python3"
  },
  "language_info": {
   "codemirror_mode": {
    "name": "ipython",
    "version": 3
   },
   "file_extension": ".py",
   "mimetype": "text/x-python",
   "name": "python",
   "nbconvert_exporter": "python",
   "pygments_lexer": "ipython3",
   "version": "3.10.2"
  }
 },
 "nbformat": 4,
 "nbformat_minor": 5
}
